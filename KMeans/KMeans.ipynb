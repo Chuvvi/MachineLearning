{
 "cells": [
  {
   "cell_type": "markdown",
   "id": "022afffb",
   "metadata": {},
   "source": [
    "# Importing Libraries"
   ]
  },
  {
   "cell_type": "code",
   "execution_count": 1,
   "id": "4bb6bd7f",
   "metadata": {},
   "outputs": [],
   "source": [
    "import numpy as np\n",
    "import pandas as pd"
   ]
  },
  {
   "cell_type": "markdown",
   "id": "21cfe806",
   "metadata": {},
   "source": [
    "# Data Preprocessing"
   ]
  },
  {
   "cell_type": "code",
   "execution_count": 2,
   "id": "0c319e5e",
   "metadata": {},
   "outputs": [],
   "source": [
    "data = pd.read_csv('multigauss.txt', sep = \" \", header = None)"
   ]
  },
  {
   "cell_type": "code",
   "execution_count": 3,
   "id": "4353c408",
   "metadata": {},
   "outputs": [
    {
     "data": {
      "text/html": [
       "<div>\n",
       "<style scoped>\n",
       "    .dataframe tbody tr th:only-of-type {\n",
       "        vertical-align: middle;\n",
       "    }\n",
       "\n",
       "    .dataframe tbody tr th {\n",
       "        vertical-align: top;\n",
       "    }\n",
       "\n",
       "    .dataframe thead th {\n",
       "        text-align: right;\n",
       "    }\n",
       "</style>\n",
       "<table border=\"1\" class=\"dataframe\">\n",
       "  <thead>\n",
       "    <tr style=\"text-align: right;\">\n",
       "      <th></th>\n",
       "      <th>0</th>\n",
       "      <th>1</th>\n",
       "      <th>2</th>\n",
       "    </tr>\n",
       "  </thead>\n",
       "  <tbody>\n",
       "    <tr>\n",
       "      <th>0</th>\n",
       "      <td>#</td>\n",
       "      <td>name:</td>\n",
       "      <td>XX</td>\n",
       "    </tr>\n",
       "    <tr>\n",
       "      <th>1</th>\n",
       "      <td>#</td>\n",
       "      <td>type:</td>\n",
       "      <td>matrix</td>\n",
       "    </tr>\n",
       "    <tr>\n",
       "      <th>2</th>\n",
       "      <td>#</td>\n",
       "      <td>rows:</td>\n",
       "      <td>1250</td>\n",
       "    </tr>\n",
       "    <tr>\n",
       "      <th>3</th>\n",
       "      <td>#</td>\n",
       "      <td>columns:</td>\n",
       "      <td>2</td>\n",
       "    </tr>\n",
       "    <tr>\n",
       "      <th>4</th>\n",
       "      <td>NaN</td>\n",
       "      <td>1.343973435284349</td>\n",
       "      <td>0.1511043422294572</td>\n",
       "    </tr>\n",
       "  </tbody>\n",
       "</table>\n",
       "</div>"
      ],
      "text/plain": [
       "     0                  1                   2\n",
       "0    #              name:                  XX\n",
       "1    #              type:              matrix\n",
       "2    #              rows:                1250\n",
       "3    #           columns:                   2\n",
       "4  NaN  1.343973435284349  0.1511043422294572"
      ]
     },
     "execution_count": 3,
     "metadata": {},
     "output_type": "execute_result"
    }
   ],
   "source": [
    "data.head()"
   ]
  },
  {
   "cell_type": "code",
   "execution_count": 4,
   "id": "e09052dc",
   "metadata": {},
   "outputs": [],
   "source": [
    "data.drop(0, axis = 1, inplace = True)"
   ]
  },
  {
   "cell_type": "code",
   "execution_count": 5,
   "id": "f08738da",
   "metadata": {},
   "outputs": [],
   "source": [
    "data.drop([0, 1, 2, 3], axis = 0, inplace = True)"
   ]
  },
  {
   "cell_type": "code",
   "execution_count": 6,
   "id": "abb7ae22",
   "metadata": {},
   "outputs": [
    {
     "data": {
      "text/html": [
       "<div>\n",
       "<style scoped>\n",
       "    .dataframe tbody tr th:only-of-type {\n",
       "        vertical-align: middle;\n",
       "    }\n",
       "\n",
       "    .dataframe tbody tr th {\n",
       "        vertical-align: top;\n",
       "    }\n",
       "\n",
       "    .dataframe thead th {\n",
       "        text-align: right;\n",
       "    }\n",
       "</style>\n",
       "<table border=\"1\" class=\"dataframe\">\n",
       "  <thead>\n",
       "    <tr style=\"text-align: right;\">\n",
       "      <th></th>\n",
       "      <th>1</th>\n",
       "      <th>2</th>\n",
       "    </tr>\n",
       "  </thead>\n",
       "  <tbody>\n",
       "    <tr>\n",
       "      <th>4</th>\n",
       "      <td>1.343973435284349</td>\n",
       "      <td>0.1511043422294572</td>\n",
       "    </tr>\n",
       "    <tr>\n",
       "      <th>5</th>\n",
       "      <td>0.9626717660160129</td>\n",
       "      <td>0.3827812289862362</td>\n",
       "    </tr>\n",
       "    <tr>\n",
       "      <th>6</th>\n",
       "      <td>0.5023257633515988</td>\n",
       "      <td>-0.1813927047883676</td>\n",
       "    </tr>\n",
       "    <tr>\n",
       "      <th>7</th>\n",
       "      <td>0.3677464033583122</td>\n",
       "      <td>0.804004582610822</td>\n",
       "    </tr>\n",
       "    <tr>\n",
       "      <th>8</th>\n",
       "      <td>-0.8079136978717317</td>\n",
       "      <td>0.2692090961704308</td>\n",
       "    </tr>\n",
       "  </tbody>\n",
       "</table>\n",
       "</div>"
      ],
      "text/plain": [
       "                     1                    2\n",
       "4    1.343973435284349   0.1511043422294572\n",
       "5   0.9626717660160129   0.3827812289862362\n",
       "6   0.5023257633515988  -0.1813927047883676\n",
       "7   0.3677464033583122    0.804004582610822\n",
       "8  -0.8079136978717317   0.2692090961704308"
      ]
     },
     "execution_count": 6,
     "metadata": {},
     "output_type": "execute_result"
    }
   ],
   "source": [
    "data.head()"
   ]
  },
  {
   "cell_type": "code",
   "execution_count": 7,
   "id": "c5f79513",
   "metadata": {},
   "outputs": [],
   "source": [
    "data = data.astype('float64')"
   ]
  },
  {
   "cell_type": "code",
   "execution_count": 8,
   "id": "093b01cd",
   "metadata": {},
   "outputs": [
    {
     "data": {
      "text/plain": [
       "1    0\n",
       "2    0\n",
       "dtype: int64"
      ]
     },
     "execution_count": 8,
     "metadata": {},
     "output_type": "execute_result"
    }
   ],
   "source": [
    "data.isna().sum()"
   ]
  },
  {
   "cell_type": "markdown",
   "id": "2e1f084d",
   "metadata": {},
   "source": [
    "# Modelling"
   ]
  },
  {
   "cell_type": "code",
   "execution_count": 9,
   "id": "9e6dfea4",
   "metadata": {},
   "outputs": [],
   "source": [
    "class KMeans():\n",
    "    def __init__(self):\n",
    "        self.mu = None\n",
    "        self.std = None\n",
    "        self.k = None\n",
    "    \n",
    "    def fit(self, X, k, random_state = 42):\n",
    "        self.mu = X.mean()\n",
    "        self.std = X.std()\n",
    "        X = (X - self.mu) / self.std\n",
    "        rng = np.random.default_rng(random_state)\n",
    "        self.k = rng.random((k, X.shape[1]))\n",
    "        self.k = (self.k - self.mu.values) / self.std.values\n",
    "        prev = self.k.copy()\n",
    "        while True:\n",
    "            distances = []\n",
    "            #calculcate the distance between each cluster and every point\n",
    "            for k in self.k:\n",
    "                diff = X - k\n",
    "                dist = self.getDist(diff)\n",
    "                distances.append(dist.values)\n",
    "            distances = np.array(distances)\n",
    "            \n",
    "            #find the minimum distances and assign clusters\n",
    "            clusters = np.argmin(distances, axis = 0)\n",
    "            \n",
    "            #get indices of clusters\n",
    "            for c in np.unique(clusters):\n",
    "                data = X[clusters == c]\n",
    "                self.k[c] = np.mean(data, axis = 0)\n",
    "            \n",
    "            #breaking condition\n",
    "            if np.array_equal(self.k, prev): break\n",
    "            prev = self.k.copy()\n",
    "    \n",
    "    def predict(self, X):\n",
    "        X = (X - self.mu) / self.std\n",
    "        distances = []\n",
    "        for k in self.k:\n",
    "            diff = X - k\n",
    "            dist = self.getDist(diff)\n",
    "            distances.append(dist)\n",
    "        distances = np.array(distances)\n",
    "        return np.argmin(distances, axis = 0)\n",
    "    \n",
    "    def getDist(self, a):\n",
    "        # return Euclidean Distance\n",
    "        return np.sqrt(np.sum(np.square(a), axis = 1))"
   ]
  },
  {
   "cell_type": "code",
   "execution_count": 28,
   "id": "27c5fc98",
   "metadata": {},
   "outputs": [],
   "source": [
    "kmeans = KMeans()"
   ]
  },
  {
   "cell_type": "code",
   "execution_count": 33,
   "id": "5660057c",
   "metadata": {},
   "outputs": [],
   "source": [
    "kmeans.fit(data, 10)"
   ]
  },
  {
   "cell_type": "code",
   "execution_count": 34,
   "id": "370c416a",
   "metadata": {},
   "outputs": [],
   "source": [
    "pred = kmeans.predict(data)"
   ]
  },
  {
   "cell_type": "code",
   "execution_count": 35,
   "id": "5566a9b7",
   "metadata": {},
   "outputs": [
    {
     "data": {
      "text/plain": [
       "array([9, 9, 9, ..., 2, 2, 2], dtype=int64)"
      ]
     },
     "execution_count": 35,
     "metadata": {},
     "output_type": "execute_result"
    }
   ],
   "source": [
    "pred"
   ]
  },
  {
   "cell_type": "code",
   "execution_count": 36,
   "id": "f968e6b8",
   "metadata": {},
   "outputs": [
    {
     "data": {
      "text/plain": [
       "array([[ 1.29863641, -0.87778869],\n",
       "       [ 1.28560755,  0.86830648],\n",
       "       [-1.07256782,  1.08178296],\n",
       "       [ 1.14170246,  1.48057849],\n",
       "       [-1.18141164, -1.21160269],\n",
       "       [ 0.71198622,  1.00486803],\n",
       "       [-0.24810802,  0.24288952],\n",
       "       [-0.81648073, -0.74807219],\n",
       "       [ 0.87556055, -1.23505695],\n",
       "       [ 0.23952082, -0.15342907]])"
      ]
     },
     "execution_count": 36,
     "metadata": {},
     "output_type": "execute_result"
    }
   ],
   "source": [
    "kmeans.k"
   ]
  },
  {
   "cell_type": "code",
   "execution_count": null,
   "id": "72bbb036",
   "metadata": {},
   "outputs": [],
   "source": []
  }
 ],
 "metadata": {
  "kernelspec": {
   "display_name": "Python 3 (ipykernel)",
   "language": "python",
   "name": "python3"
  },
  "language_info": {
   "codemirror_mode": {
    "name": "ipython",
    "version": 3
   },
   "file_extension": ".py",
   "mimetype": "text/x-python",
   "name": "python",
   "nbconvert_exporter": "python",
   "pygments_lexer": "ipython3",
   "version": "3.9.7"
  }
 },
 "nbformat": 4,
 "nbformat_minor": 5
}
