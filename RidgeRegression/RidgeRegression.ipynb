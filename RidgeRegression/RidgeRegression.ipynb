{
 "cells": [
  {
   "cell_type": "code",
   "execution_count": 3,
   "id": "020d9c29",
   "metadata": {},
   "outputs": [],
   "source": [
    "#importing the required libraries\n",
    "import pandas as pd\n",
    "import numpy as np\n",
    "from sklearn.model_selection import train_test_split"
   ]
  },
  {
   "cell_type": "markdown",
   "id": "13c19f3d",
   "metadata": {},
   "source": [
    "# Data Preprocessing"
   ]
  },
  {
   "cell_type": "code",
   "execution_count": 2,
   "id": "c5f60d15",
   "metadata": {},
   "outputs": [],
   "source": [
    "#reading the data\n",
    "data = pd.read_csv('hour.csv')"
   ]
  },
  {
   "cell_type": "code",
   "execution_count": 3,
   "id": "5be87c76",
   "metadata": {},
   "outputs": [
    {
     "data": {
      "text/html": [
       "<div>\n",
       "<style scoped>\n",
       "    .dataframe tbody tr th:only-of-type {\n",
       "        vertical-align: middle;\n",
       "    }\n",
       "\n",
       "    .dataframe tbody tr th {\n",
       "        vertical-align: top;\n",
       "    }\n",
       "\n",
       "    .dataframe thead th {\n",
       "        text-align: right;\n",
       "    }\n",
       "</style>\n",
       "<table border=\"1\" class=\"dataframe\">\n",
       "  <thead>\n",
       "    <tr style=\"text-align: right;\">\n",
       "      <th></th>\n",
       "      <th>instant</th>\n",
       "      <th>dteday</th>\n",
       "      <th>season</th>\n",
       "      <th>yr</th>\n",
       "      <th>mnth</th>\n",
       "      <th>hr</th>\n",
       "      <th>holiday</th>\n",
       "      <th>weekday</th>\n",
       "      <th>workingday</th>\n",
       "      <th>weathersit</th>\n",
       "      <th>temp</th>\n",
       "      <th>atemp</th>\n",
       "      <th>hum</th>\n",
       "      <th>windspeed</th>\n",
       "      <th>casual</th>\n",
       "      <th>registered</th>\n",
       "      <th>cnt</th>\n",
       "    </tr>\n",
       "  </thead>\n",
       "  <tbody>\n",
       "    <tr>\n",
       "      <th>0</th>\n",
       "      <td>1</td>\n",
       "      <td>2011-01-01</td>\n",
       "      <td>1</td>\n",
       "      <td>0</td>\n",
       "      <td>1</td>\n",
       "      <td>0</td>\n",
       "      <td>0</td>\n",
       "      <td>6</td>\n",
       "      <td>0</td>\n",
       "      <td>1</td>\n",
       "      <td>0.24</td>\n",
       "      <td>0.2879</td>\n",
       "      <td>0.81</td>\n",
       "      <td>0.0</td>\n",
       "      <td>3</td>\n",
       "      <td>13</td>\n",
       "      <td>16</td>\n",
       "    </tr>\n",
       "    <tr>\n",
       "      <th>1</th>\n",
       "      <td>2</td>\n",
       "      <td>2011-01-01</td>\n",
       "      <td>1</td>\n",
       "      <td>0</td>\n",
       "      <td>1</td>\n",
       "      <td>1</td>\n",
       "      <td>0</td>\n",
       "      <td>6</td>\n",
       "      <td>0</td>\n",
       "      <td>1</td>\n",
       "      <td>0.22</td>\n",
       "      <td>0.2727</td>\n",
       "      <td>0.80</td>\n",
       "      <td>0.0</td>\n",
       "      <td>8</td>\n",
       "      <td>32</td>\n",
       "      <td>40</td>\n",
       "    </tr>\n",
       "    <tr>\n",
       "      <th>2</th>\n",
       "      <td>3</td>\n",
       "      <td>2011-01-01</td>\n",
       "      <td>1</td>\n",
       "      <td>0</td>\n",
       "      <td>1</td>\n",
       "      <td>2</td>\n",
       "      <td>0</td>\n",
       "      <td>6</td>\n",
       "      <td>0</td>\n",
       "      <td>1</td>\n",
       "      <td>0.22</td>\n",
       "      <td>0.2727</td>\n",
       "      <td>0.80</td>\n",
       "      <td>0.0</td>\n",
       "      <td>5</td>\n",
       "      <td>27</td>\n",
       "      <td>32</td>\n",
       "    </tr>\n",
       "    <tr>\n",
       "      <th>3</th>\n",
       "      <td>4</td>\n",
       "      <td>2011-01-01</td>\n",
       "      <td>1</td>\n",
       "      <td>0</td>\n",
       "      <td>1</td>\n",
       "      <td>3</td>\n",
       "      <td>0</td>\n",
       "      <td>6</td>\n",
       "      <td>0</td>\n",
       "      <td>1</td>\n",
       "      <td>0.24</td>\n",
       "      <td>0.2879</td>\n",
       "      <td>0.75</td>\n",
       "      <td>0.0</td>\n",
       "      <td>3</td>\n",
       "      <td>10</td>\n",
       "      <td>13</td>\n",
       "    </tr>\n",
       "    <tr>\n",
       "      <th>4</th>\n",
       "      <td>5</td>\n",
       "      <td>2011-01-01</td>\n",
       "      <td>1</td>\n",
       "      <td>0</td>\n",
       "      <td>1</td>\n",
       "      <td>4</td>\n",
       "      <td>0</td>\n",
       "      <td>6</td>\n",
       "      <td>0</td>\n",
       "      <td>1</td>\n",
       "      <td>0.24</td>\n",
       "      <td>0.2879</td>\n",
       "      <td>0.75</td>\n",
       "      <td>0.0</td>\n",
       "      <td>0</td>\n",
       "      <td>1</td>\n",
       "      <td>1</td>\n",
       "    </tr>\n",
       "  </tbody>\n",
       "</table>\n",
       "</div>"
      ],
      "text/plain": [
       "   instant      dteday  season  yr  mnth  hr  holiday  weekday  workingday  \\\n",
       "0        1  2011-01-01       1   0     1   0        0        6           0   \n",
       "1        2  2011-01-01       1   0     1   1        0        6           0   \n",
       "2        3  2011-01-01       1   0     1   2        0        6           0   \n",
       "3        4  2011-01-01       1   0     1   3        0        6           0   \n",
       "4        5  2011-01-01       1   0     1   4        0        6           0   \n",
       "\n",
       "   weathersit  temp   atemp   hum  windspeed  casual  registered  cnt  \n",
       "0           1  0.24  0.2879  0.81        0.0       3          13   16  \n",
       "1           1  0.22  0.2727  0.80        0.0       8          32   40  \n",
       "2           1  0.22  0.2727  0.80        0.0       5          27   32  \n",
       "3           1  0.24  0.2879  0.75        0.0       3          10   13  \n",
       "4           1  0.24  0.2879  0.75        0.0       0           1    1  "
      ]
     },
     "execution_count": 3,
     "metadata": {},
     "output_type": "execute_result"
    }
   ],
   "source": [
    "data.head()"
   ]
  },
  {
   "cell_type": "code",
   "execution_count": 4,
   "id": "7f6a73ea",
   "metadata": {},
   "outputs": [
    {
     "data": {
      "text/plain": [
       "instant       0\n",
       "dteday        0\n",
       "season        0\n",
       "yr            0\n",
       "mnth          0\n",
       "hr            0\n",
       "holiday       0\n",
       "weekday       0\n",
       "workingday    0\n",
       "weathersit    0\n",
       "temp          0\n",
       "atemp         0\n",
       "hum           0\n",
       "windspeed     0\n",
       "casual        0\n",
       "registered    0\n",
       "cnt           0\n",
       "dtype: int64"
      ]
     },
     "execution_count": 4,
     "metadata": {},
     "output_type": "execute_result"
    }
   ],
   "source": [
    "#checking for missing values\n",
    "data.isnull().sum()"
   ]
  },
  {
   "cell_type": "code",
   "execution_count": 5,
   "id": "ed385a2d",
   "metadata": {},
   "outputs": [
    {
     "name": "stdout",
     "output_type": "stream",
     "text": [
      "Categorical columns are  ['dteday']\n"
     ]
    }
   ],
   "source": [
    "#finding categorical columns\n",
    "catCols = []\n",
    "for i in data.columns:\n",
    "    if data[i].dtype == 'object':\n",
    "        catCols.append(i)\n",
    "print(\"Categorical columns are \", catCols)"
   ]
  },
  {
   "cell_type": "code",
   "execution_count": 6,
   "id": "b12df792",
   "metadata": {},
   "outputs": [],
   "source": [
    "#dropping the categorical columns\n",
    "data.drop(catCols, axis = 1, inplace = True)"
   ]
  },
  {
   "cell_type": "code",
   "execution_count": 7,
   "id": "5c59530b",
   "metadata": {},
   "outputs": [],
   "source": [
    "#dropping instant and cnt columns\n",
    "data.drop(['instant', 'cnt'], axis = 1, inplace = True)"
   ]
  },
  {
   "cell_type": "code",
   "execution_count": 8,
   "id": "67faa8d1",
   "metadata": {},
   "outputs": [],
   "source": [
    "#adding more features\n",
    "for col in data.columns:\n",
    "    if col == 'casual' or col == 'registered':\n",
    "        continue\n",
    "    newColSquared = col + '^2'\n",
    "    newColCubed = col + '^3'\n",
    "    newColSqrt = col + '^0.5'\n",
    "    newColCurt = col + '^0.33'\n",
    "    data[newColSquared] = data[col] ** 2\n",
    "    data[newColCubed] = data[col] ** 3\n",
    "    data[newColSqrt] = data[col] ** (0.5)\n",
    "    data[newColCurt] = data[col] ** (1/3)"
   ]
  },
  {
   "cell_type": "code",
   "execution_count": 9,
   "id": "cc8b6fb4",
   "metadata": {},
   "outputs": [],
   "source": [
    "#creating a seperate copy for 'casual' dataset and 'registered' dataset\n",
    "dataCasual = data.copy()\n",
    "dataRegistered = data.copy()\n",
    "dataCasual.drop('registered', axis = 1, inplace = True)\n",
    "dataRegistered.drop('casual', axis = 1, inplace = True)"
   ]
  },
  {
   "cell_type": "code",
   "execution_count": 10,
   "id": "0e2977f6",
   "metadata": {},
   "outputs": [],
   "source": [
    "#computing pairwise correlation\n",
    "corrMatCasual = dataCasual.corr()\n",
    "corrMatRegistered = dataRegistered.corr()"
   ]
  },
  {
   "cell_type": "code",
   "execution_count": 11,
   "id": "7bee9b5b",
   "metadata": {},
   "outputs": [
    {
     "data": {
      "text/plain": [
       "casual      1.000000\n",
       "temp^2      0.462839\n",
       "temp        0.459616\n",
       "atemp^2     0.457776\n",
       "atemp       0.454080\n",
       "              ...   \n",
       "hum^0.33   -0.326064\n",
       "hum^3      -0.331050\n",
       "hum^0.5    -0.338252\n",
       "hum^2      -0.342882\n",
       "hum        -0.347028\n",
       "Name: casual, Length: 61, dtype: float64"
      ]
     },
     "execution_count": 11,
     "metadata": {},
     "output_type": "execute_result"
    }
   ],
   "source": [
    "#checking correlation between 'casual' column and data\n",
    "casualInfo = corrMatCasual['casual'].sort_values(ascending = False)\n",
    "casualInfo"
   ]
  },
  {
   "cell_type": "code",
   "execution_count": 12,
   "id": "4f8d1783",
   "metadata": {},
   "outputs": [
    {
     "data": {
      "text/plain": [
       "registered    1.000000\n",
       "hr^0.5        0.409746\n",
       "hr^0.33       0.400490\n",
       "hr            0.374141\n",
       "temp          0.335361\n",
       "                ...   \n",
       "hum^0.33     -0.251604\n",
       "hum^0.5      -0.263105\n",
       "hum^3        -0.272241\n",
       "hum          -0.273933\n",
       "hum^2        -0.276670\n",
       "Name: registered, Length: 61, dtype: float64"
      ]
     },
     "execution_count": 12,
     "metadata": {},
     "output_type": "execute_result"
    }
   ],
   "source": [
    "#checking correlation between 'registered' column and data\n",
    "registerdInfo = corrMatRegistered['registered'].sort_values(ascending = False)\n",
    "registerdInfo"
   ]
  },
  {
   "cell_type": "code",
   "execution_count": 13,
   "id": "55c82071",
   "metadata": {},
   "outputs": [],
   "source": [
    "#dropping all the columns with correlation less than 0.15 for 'casual' dataset\n",
    "dropColsCasual = []\n",
    "for idx, val in zip(casualInfo.index, casualInfo):\n",
    "    if idx != 'casual':\n",
    "        if abs(val) < 0.15:\n",
    "            dropColsCasual.append(idx)\n",
    "dataCasual.drop(dropColsCasual, axis = 1, inplace = True)"
   ]
  },
  {
   "cell_type": "code",
   "execution_count": 14,
   "id": "5246b42a",
   "metadata": {},
   "outputs": [],
   "source": [
    "#dropping all the columns with correlation less than 0.15 for 'registered' dataset\n",
    "dropColsRegistered = []\n",
    "for idx, val in zip(registerdInfo.index, registerdInfo):\n",
    "    if idx != 'registered':\n",
    "        if abs(val) < 0.15:\n",
    "            dropColsRegistered.append(idx)\n",
    "dataRegistered.drop(dropColsRegistered, axis = 1, inplace = True)"
   ]
  },
  {
   "cell_type": "code",
   "execution_count": 15,
   "id": "13b91272",
   "metadata": {},
   "outputs": [],
   "source": [
    "#splitting the dataCasual dataset\n",
    "yCasual = dataCasual['casual']\n",
    "XCasual = dataCasual.drop('casual', axis = 1)\n",
    "#normalizing the dataset\n",
    "XCasual = (XCasual - XCasual.mean(axis = 0)) / XCasual.std(axis = 0)\n",
    "XCasual_train, XCasual_val, yCasual_train, yCasual_val = train_test_split(XCasual, yCasual, random_state = 42)"
   ]
  },
  {
   "cell_type": "code",
   "execution_count": 16,
   "id": "89c8e69b",
   "metadata": {},
   "outputs": [],
   "source": [
    "#converting dataframe to numpy array for dataCasual dataset\n",
    "XBCasual_train = np.concatenate((XCasual_train.to_numpy(), np.ones((XCasual_train.shape[0], 1))), axis = 1)\n",
    "XBCasual_val = np.concatenate((XCasual_val.to_numpy(), np.ones((XCasual_val.shape[0], 1))), axis = 1)\n",
    "yCasual_train = yCasual_train.to_numpy()\n",
    "yCasual_val = yCasual_val.to_numpy()"
   ]
  },
  {
   "cell_type": "code",
   "execution_count": 17,
   "id": "b5467f36",
   "metadata": {},
   "outputs": [],
   "source": [
    "#splitting the dataRegistered dataset\n",
    "yReg = dataRegistered['registered']\n",
    "XReg = dataRegistered.drop('registered', axis = 1)\n",
    "#normalizing the dataset\n",
    "XReg = (XReg - XReg.mean(axis = 0)) / XReg.std(axis = 0)\n",
    "XReg_train, XReg_val, yReg_train, yReg_val = train_test_split(XReg, yReg, random_state = 42)"
   ]
  },
  {
   "cell_type": "code",
   "execution_count": 18,
   "id": "8016127b",
   "metadata": {},
   "outputs": [],
   "source": [
    "#converting dataframe to numpy array for dataRegistered dataset\n",
    "XBReg_train = np.concatenate((XReg_train.to_numpy(), np.ones((XReg_train.shape[0], 1))), axis = 1)\n",
    "XBReg_val = np.concatenate((XReg_val.to_numpy(), np.ones((XReg_val.shape[0], 1))), axis = 1)\n",
    "yReg_train = yReg_train.to_numpy()\n",
    "yReg_val = yReg_val.to_numpy()"
   ]
  },
  {
   "cell_type": "markdown",
   "id": "eacef93d",
   "metadata": {},
   "source": [
    "# Modelling"
   ]
  },
  {
   "cell_type": "code",
   "execution_count": 19,
   "id": "8bf6e356",
   "metadata": {},
   "outputs": [],
   "source": [
    "def model(X, y, lr, alpha, epochs, batch_size):\n",
    "    w = np.random.rand(X.shape[1],)\n",
    "    for e in range(epochs):\n",
    "        miniBatchNo = np.random.randint(int(len(X) / batch_size))\n",
    "        Xi = X[miniBatchNo * batch_size : (miniBatchNo+1) * batch_size]\n",
    "        yi = y[miniBatchNo * batch_size : (miniBatchNo+1) * batch_size]\n",
    "        a = np.dot(np.identity(Xi.shape[1]), alpha)\n",
    "        g = np.dot(np.dot(Xi.T, Xi), w) - np.dot(Xi.T, yi) + np.dot(a,w)\n",
    "        w -= (lr * g)\n",
    "        diff = yi - np.dot(Xi, w)\n",
    "        mse = np.dot(diff.T, diff) / y.shape[0]\n",
    "#         print(\"MSE for \" + str(e) + \" epoch is \" + str(mse))\n",
    "    return w"
   ]
  },
  {
   "cell_type": "markdown",
   "id": "63621a73",
   "metadata": {},
   "source": [
    "#  K-fold cross validation"
   ]
  },
  {
   "cell_type": "code",
   "execution_count": 20,
   "id": "141fca96",
   "metadata": {},
   "outputs": [],
   "source": [
    "def kcv(k, X, y, lr, alpha, epochs, batch_size):\n",
    "    dataSize = int(len(X) / k)\n",
    "    mseOP = np.inf\n",
    "    for i in range(k):\n",
    "        X_val = X[i * dataSize:(i+1) * dataSize]\n",
    "        y_val = y[i * dataSize:(i+1) * dataSize]\n",
    "        X_train = np.concatenate((X[:i * dataSize], X[(i+1) * dataSize:]), axis = 0)\n",
    "        y_train = np.concatenate((y[:i * dataSize], y[(i+1) * dataSize:]), axis = 0)\n",
    "        for b in batch_size:\n",
    "            for l in lr:\n",
    "                for a in alpha:\n",
    "                    w = model(X_train, y_train, l, a, epochs, b)\n",
    "                    pred = np.dot(X_val, w)\n",
    "                    diff = y_val - pred\n",
    "                    mse = np.dot(diff.T, diff) / y_val.shape[0]\n",
    "                    if mse < mseOP:\n",
    "                        mseOP = mse\n",
    "                        op = {\n",
    "                            'error' : mse,\n",
    "                            'w' : w,\n",
    "                            'lr' : l,\n",
    "                            'alpha' : a,\n",
    "                            'epochs' : epochs,\n",
    "                            'batchSize' : b\n",
    "                        }\n",
    "    \n",
    "    return op"
   ]
  },
  {
   "cell_type": "code",
   "execution_count": 28,
   "id": "6f4bf575",
   "metadata": {},
   "outputs": [
    {
     "data": {
      "text/plain": [
       "{'error': 1098.0733251094864,\n",
       " 'w': array([ 40.78210304,  -3.22109906,  -0.19127645,   9.2612318 ,\n",
       "         10.2675932 , -10.79007035,   1.17949859, -38.91005541,\n",
       "         21.46633126, -16.62081941,   3.10909164,  -3.05098946,\n",
       "         -3.16822814,  -2.92549187,  -2.78729254,  -1.00442638,\n",
       "          0.39041853,   0.51421569,  11.31228304,  -3.11616733,\n",
       "         -0.77478825,  -5.90251916,   6.11629738, -12.79035288,\n",
       "          4.3196464 ,   1.18050184,  -6.49741228,   4.12046169,\n",
       "         -3.41306367,   5.59031694,  35.61336852]),\n",
       " 'lr': 0.0001,\n",
       " 'alpha': 0.5,\n",
       " 'epochs': 10000,\n",
       " 'batchSize': 100}"
      ]
     },
     "execution_count": 28,
     "metadata": {},
     "output_type": "execute_result"
    }
   ],
   "source": [
    "#getting optimal parameter values for casual bike dataset\n",
    "casualParams = kcv(10, XBCasual_train, yCasual_train, [0.0001, 0.00001, 0.000001], [0.5, 1, 5, 10], 10000, [1, 10, 100])\n",
    "casualParams"
   ]
  },
  {
   "cell_type": "code",
   "execution_count": 29,
   "id": "032a74b6",
   "metadata": {},
   "outputs": [
    {
     "data": {
      "text/plain": [
       "{'error': 10869.806416064517,\n",
       " 'w': array([   6.48089878,    6.87558213,  141.2938836 ,   19.10123266,\n",
       "          22.3851206 ,   -9.27216866,    7.59450075,    8.37572358,\n",
       "           7.15907486,    6.67797598,    6.74464649,    6.64888738,\n",
       "          -4.01994086,   26.41898417, -137.87850151,   59.1800198 ,\n",
       "         -56.09957905,   23.00088417,   -8.76296551,   -4.12533125,\n",
       "         -16.14881818,   10.57318371,  -31.12798348,    9.63074297,\n",
       "           0.66935022,  -10.15925468,   -7.12386196,   -0.56449124,\n",
       "          10.7756111 ,  152.92086408]),\n",
       " 'lr': 0.0001,\n",
       " 'alpha': 0.5,\n",
       " 'epochs': 10000,\n",
       " 'batchSize': 100}"
      ]
     },
     "execution_count": 29,
     "metadata": {},
     "output_type": "execute_result"
    }
   ],
   "source": [
    "#getting optimal parameter values for registered bike dataset\n",
    "regParams = kcv(10, XBReg_train, yReg_train, [0.0001, 0.00001, 0.000001], [0.5, 1, 5, 10], 10000, [1, 10, 100])\n",
    "regParams"
   ]
  },
  {
   "cell_type": "code",
   "execution_count": 30,
   "id": "4b1e9b1f",
   "metadata": {},
   "outputs": [
    {
     "data": {
      "text/plain": [
       "array([ 40.64555436,  -2.79711396,  -0.29939725,   9.22887872,\n",
       "        10.38628545, -11.22334547,   1.26518654, -38.71548411,\n",
       "        21.55433925, -16.34032612,   2.30582551,  -3.25967719,\n",
       "        -2.91895285,  -2.76706835,  -3.06481016,  -1.98075684,\n",
       "         1.00779203,   1.37310822,  11.18312769,  -3.10284326,\n",
       "        -0.93788105,  -5.78883358,   5.91122552, -12.60416161,\n",
       "         4.62016424,   0.85930262,  -6.61321795,   3.91521133,\n",
       "        -3.55773683,   6.24891065,  35.70964181])"
      ]
     },
     "execution_count": 30,
     "metadata": {},
     "output_type": "execute_result"
    }
   ],
   "source": [
    "#getting final weights for casual bike dataset\n",
    "wCasual = model(XBCasual_train, yCasual_train, casualParams['lr'], casualParams['alpha'], casualParams['epochs'], casualParams['batchSize'])\n",
    "wCasual"
   ]
  },
  {
   "cell_type": "code",
   "execution_count": 31,
   "id": "30317e23",
   "metadata": {},
   "outputs": [
    {
     "data": {
      "text/plain": [
       "array([   5.33014583,    7.43204389,  142.77760733,   19.59078741,\n",
       "         23.1748703 ,   -8.6201584 ,    7.82614962,    9.40791686,\n",
       "          7.62119431,    7.58263982,    7.80086353,    7.91121566,\n",
       "         -2.35559959,   25.9685931 , -138.50292042,   60.18949104,\n",
       "        -55.18089719,   23.04842997,   -9.15732305,   -4.01848277,\n",
       "        -16.24126603,   11.52705411,  -31.10921519,   10.25653353,\n",
       "          0.46234443,  -10.72388567,   -8.7287443 ,    0.33923214,\n",
       "         11.17413588,  153.77439605])"
      ]
     },
     "execution_count": 31,
     "metadata": {},
     "output_type": "execute_result"
    }
   ],
   "source": [
    "#getting final weights for registered bike dataset\n",
    "wReg = model(XBReg_train, yReg_train, regParams['lr'], regParams['alpha'], regParams['epochs'], regParams['batchSize'])\n",
    "wReg"
   ]
  },
  {
   "cell_type": "markdown",
   "id": "9bad3758",
   "metadata": {},
   "source": [
    "# Results"
   ]
  },
  {
   "cell_type": "code",
   "execution_count": 32,
   "id": "5412b305",
   "metadata": {},
   "outputs": [],
   "source": [
    "#function to calculate MSE\n",
    "def getScore(w, X, y):\n",
    "    pred = np.dot(X, w)\n",
    "    diff = y - pred\n",
    "    mse = np.dot(diff.T, diff) / y.shape[0]\n",
    "    return mse"
   ]
  },
  {
   "cell_type": "code",
   "execution_count": 33,
   "id": "da46081e",
   "metadata": {},
   "outputs": [
    {
     "name": "stdout",
     "output_type": "stream",
     "text": [
      "MSE for Casual Rental Bikes is 1164.1368658837316\n"
     ]
    }
   ],
   "source": [
    "#Score for Casual rental bikes\n",
    "print(\"MSE for Casual Rental Bikes is \" + str(getScore(wCasual, XBCasual_val, yCasual_val)))"
   ]
  },
  {
   "cell_type": "code",
   "execution_count": 34,
   "id": "7495cc99",
   "metadata": {
    "scrolled": true
   },
   "outputs": [
    {
     "name": "stdout",
     "output_type": "stream",
     "text": [
      "MSE for Registered Rental Bikes is 12988.86686064716\n"
     ]
    }
   ],
   "source": [
    "#Score for Registered rental bikes\n",
    "print(\"MSE for Registered Rental Bikes is \" + str(getScore(wReg, XBReg_train, yReg_train)))"
   ]
  },
  {
   "cell_type": "code",
   "execution_count": 14,
   "id": "a0ffa4d6",
   "metadata": {},
   "outputs": [],
   "source": [
    "x = np.array([5, -3, -1, 2])\n",
    "a = np.array([4, -2, 6, -1])"
   ]
  },
  {
   "cell_type": "code",
   "execution_count": 17,
   "id": "c83e8ea5",
   "metadata": {},
   "outputs": [
    {
     "data": {
      "text/plain": [
       "18"
      ]
     },
     "execution_count": 17,
     "metadata": {},
     "output_type": "execute_result"
    }
   ],
   "source": [
    "np.dot(a.T, x)"
   ]
  },
  {
   "cell_type": "code",
   "execution_count": null,
   "id": "5e62c8f6",
   "metadata": {},
   "outputs": [],
   "source": []
  }
 ],
 "metadata": {
  "kernelspec": {
   "display_name": "Python 3 (ipykernel)",
   "language": "python",
   "name": "python3"
  },
  "language_info": {
   "codemirror_mode": {
    "name": "ipython",
    "version": 3
   },
   "file_extension": ".py",
   "mimetype": "text/x-python",
   "name": "python",
   "nbconvert_exporter": "python",
   "pygments_lexer": "ipython3",
   "version": "3.9.7"
  }
 },
 "nbformat": 4,
 "nbformat_minor": 5
}
