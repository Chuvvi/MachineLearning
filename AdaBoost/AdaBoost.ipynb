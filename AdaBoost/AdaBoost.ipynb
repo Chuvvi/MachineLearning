{
 "cells": [
  {
   "cell_type": "code",
   "execution_count": 1,
   "id": "333423c3",
   "metadata": {},
   "outputs": [],
   "source": [
    "import numpy as np\n",
    "import pandas as pd\n",
    "from sklearn.model_selection import train_test_split\n",
    "from sklearn.tree import DecisionTreeClassifier\n",
    "from sklearn.metrics import classification_report\n",
    "from sklearn.metrics import accuracy_score\n",
    "import matplotlib.pyplot as plt"
   ]
  },
  {
   "cell_type": "markdown",
   "id": "4adb0f0c",
   "metadata": {},
   "source": [
    "# Data Preprocessing"
   ]
  },
  {
   "cell_type": "code",
   "execution_count": 2,
   "id": "2b58462c",
   "metadata": {},
   "outputs": [],
   "source": [
    "data = pd.read_csv('titanic.csv')"
   ]
  },
  {
   "cell_type": "code",
   "execution_count": 3,
   "id": "031db179",
   "metadata": {},
   "outputs": [
    {
     "data": {
      "text/html": [
       "<div>\n",
       "<style scoped>\n",
       "    .dataframe tbody tr th:only-of-type {\n",
       "        vertical-align: middle;\n",
       "    }\n",
       "\n",
       "    .dataframe tbody tr th {\n",
       "        vertical-align: top;\n",
       "    }\n",
       "\n",
       "    .dataframe thead th {\n",
       "        text-align: right;\n",
       "    }\n",
       "</style>\n",
       "<table border=\"1\" class=\"dataframe\">\n",
       "  <thead>\n",
       "    <tr style=\"text-align: right;\">\n",
       "      <th></th>\n",
       "      <th>PassengerId</th>\n",
       "      <th>Survived</th>\n",
       "      <th>Pclass</th>\n",
       "      <th>Name</th>\n",
       "      <th>Sex</th>\n",
       "      <th>Age</th>\n",
       "      <th>SibSp</th>\n",
       "      <th>Parch</th>\n",
       "      <th>Ticket</th>\n",
       "      <th>Fare</th>\n",
       "      <th>Cabin</th>\n",
       "      <th>Embarked</th>\n",
       "    </tr>\n",
       "  </thead>\n",
       "  <tbody>\n",
       "    <tr>\n",
       "      <th>0</th>\n",
       "      <td>1</td>\n",
       "      <td>0</td>\n",
       "      <td>3</td>\n",
       "      <td>Braund, Mr. Owen Harris</td>\n",
       "      <td>male</td>\n",
       "      <td>22.0</td>\n",
       "      <td>1</td>\n",
       "      <td>0</td>\n",
       "      <td>A/5 21171</td>\n",
       "      <td>7.2500</td>\n",
       "      <td>NaN</td>\n",
       "      <td>S</td>\n",
       "    </tr>\n",
       "    <tr>\n",
       "      <th>1</th>\n",
       "      <td>2</td>\n",
       "      <td>1</td>\n",
       "      <td>1</td>\n",
       "      <td>Cumings, Mrs. John Bradley (Florence Briggs Th...</td>\n",
       "      <td>female</td>\n",
       "      <td>38.0</td>\n",
       "      <td>1</td>\n",
       "      <td>0</td>\n",
       "      <td>PC 17599</td>\n",
       "      <td>71.2833</td>\n",
       "      <td>C85</td>\n",
       "      <td>C</td>\n",
       "    </tr>\n",
       "    <tr>\n",
       "      <th>2</th>\n",
       "      <td>3</td>\n",
       "      <td>1</td>\n",
       "      <td>3</td>\n",
       "      <td>Heikkinen, Miss. Laina</td>\n",
       "      <td>female</td>\n",
       "      <td>26.0</td>\n",
       "      <td>0</td>\n",
       "      <td>0</td>\n",
       "      <td>STON/O2. 3101282</td>\n",
       "      <td>7.9250</td>\n",
       "      <td>NaN</td>\n",
       "      <td>S</td>\n",
       "    </tr>\n",
       "    <tr>\n",
       "      <th>3</th>\n",
       "      <td>4</td>\n",
       "      <td>1</td>\n",
       "      <td>1</td>\n",
       "      <td>Futrelle, Mrs. Jacques Heath (Lily May Peel)</td>\n",
       "      <td>female</td>\n",
       "      <td>35.0</td>\n",
       "      <td>1</td>\n",
       "      <td>0</td>\n",
       "      <td>113803</td>\n",
       "      <td>53.1000</td>\n",
       "      <td>C123</td>\n",
       "      <td>S</td>\n",
       "    </tr>\n",
       "    <tr>\n",
       "      <th>4</th>\n",
       "      <td>5</td>\n",
       "      <td>0</td>\n",
       "      <td>3</td>\n",
       "      <td>Allen, Mr. William Henry</td>\n",
       "      <td>male</td>\n",
       "      <td>35.0</td>\n",
       "      <td>0</td>\n",
       "      <td>0</td>\n",
       "      <td>373450</td>\n",
       "      <td>8.0500</td>\n",
       "      <td>NaN</td>\n",
       "      <td>S</td>\n",
       "    </tr>\n",
       "  </tbody>\n",
       "</table>\n",
       "</div>"
      ],
      "text/plain": [
       "   PassengerId  Survived  Pclass  \\\n",
       "0            1         0       3   \n",
       "1            2         1       1   \n",
       "2            3         1       3   \n",
       "3            4         1       1   \n",
       "4            5         0       3   \n",
       "\n",
       "                                                Name     Sex   Age  SibSp  \\\n",
       "0                            Braund, Mr. Owen Harris    male  22.0      1   \n",
       "1  Cumings, Mrs. John Bradley (Florence Briggs Th...  female  38.0      1   \n",
       "2                             Heikkinen, Miss. Laina  female  26.0      0   \n",
       "3       Futrelle, Mrs. Jacques Heath (Lily May Peel)  female  35.0      1   \n",
       "4                           Allen, Mr. William Henry    male  35.0      0   \n",
       "\n",
       "   Parch            Ticket     Fare Cabin Embarked  \n",
       "0      0         A/5 21171   7.2500   NaN        S  \n",
       "1      0          PC 17599  71.2833   C85        C  \n",
       "2      0  STON/O2. 3101282   7.9250   NaN        S  \n",
       "3      0            113803  53.1000  C123        S  \n",
       "4      0            373450   8.0500   NaN        S  "
      ]
     },
     "execution_count": 3,
     "metadata": {},
     "output_type": "execute_result"
    }
   ],
   "source": [
    "data.head()"
   ]
  },
  {
   "cell_type": "code",
   "execution_count": 4,
   "id": "07f77523",
   "metadata": {},
   "outputs": [
    {
     "data": {
      "text/plain": [
       "PassengerId      0\n",
       "Survived         0\n",
       "Pclass           0\n",
       "Name             0\n",
       "Sex              0\n",
       "Age            177\n",
       "SibSp            0\n",
       "Parch            0\n",
       "Ticket           0\n",
       "Fare             0\n",
       "Cabin          687\n",
       "Embarked         2\n",
       "dtype: int64"
      ]
     },
     "execution_count": 4,
     "metadata": {},
     "output_type": "execute_result"
    }
   ],
   "source": [
    "#checking for null values\n",
    "nullValues = data.isnull().sum()\n",
    "nullValues"
   ]
  },
  {
   "cell_type": "code",
   "execution_count": 5,
   "id": "b64ca3ce",
   "metadata": {},
   "outputs": [],
   "source": [
    "#deleting all the columns whose missing values are over 20%\n",
    "delCols = ['PassengerId', 'Name', 'Ticket']\n",
    "for i, v in nullValues.items():\n",
    "    if (v/data.shape[0]) > 0.2:\n",
    "        delCols.append(i)\n",
    "data.drop(delCols, axis = 1, inplace = True)"
   ]
  },
  {
   "cell_type": "code",
   "execution_count": 6,
   "id": "7423c576",
   "metadata": {},
   "outputs": [],
   "source": [
    "#replacing male and female to 0 and 1\n",
    "data['Sex'].replace({'male' : 0, 'female' : 1}, inplace = True)"
   ]
  },
  {
   "cell_type": "code",
   "execution_count": 7,
   "id": "ab6e0540",
   "metadata": {},
   "outputs": [],
   "source": [
    "#one hot encoding passenger class\n",
    "data = pd.get_dummies(data, columns = ['Pclass'])"
   ]
  },
  {
   "cell_type": "code",
   "execution_count": 8,
   "id": "47f9c2ea",
   "metadata": {},
   "outputs": [],
   "source": [
    "#seperating labels and attributes\n",
    "X = data.drop('Survived', axis = 1)\n",
    "y = data['Survived']"
   ]
  },
  {
   "cell_type": "code",
   "execution_count": 9,
   "id": "31a3e319",
   "metadata": {},
   "outputs": [],
   "source": [
    "#seperating the data into training and testing sets\n",
    "X_train, X_val, y_train, y_val = train_test_split(X, y, test_size = 0.2, random_state = 42)"
   ]
  },
  {
   "cell_type": "code",
   "execution_count": 10,
   "id": "f9765582",
   "metadata": {},
   "outputs": [],
   "source": [
    "#creating a function to fill in the missing values with the most common values\n",
    "def fillMissing(df, ref): \n",
    "    #df is the dataframe in which we'll fill in the values\n",
    "    #ref is the reference dataframe\n",
    "    missingItems = df.isnull().sum()\n",
    "    missingCols = []\n",
    "    r = ref.mode()\n",
    "    for i, v in missingItems.items():\n",
    "        if v != 0:\n",
    "            missingCols.append(i)\n",
    "    for col in missingCols:\n",
    "        df[col] = df[col].fillna(r[col][0])"
   ]
  },
  {
   "cell_type": "code",
   "execution_count": 11,
   "id": "d99c6368",
   "metadata": {},
   "outputs": [],
   "source": [
    "#filling in the missing values in X_train and X_val using X_train properties\n",
    "fillMissing(X_train, X_train)\n",
    "fillMissing(X_val, X_train)"
   ]
  },
  {
   "cell_type": "code",
   "execution_count": 12,
   "id": "f47f1908",
   "metadata": {},
   "outputs": [],
   "source": [
    "#one hot encoding\n",
    "X_train = pd.get_dummies(X_train)\n",
    "X_val = pd.get_dummies(X_val)"
   ]
  },
  {
   "cell_type": "code",
   "execution_count": 13,
   "id": "3b7bf99d",
   "metadata": {},
   "outputs": [],
   "source": [
    "#changing labels to 1 and -1 for simplification\n",
    "y_train = np.where(y_train < 1, -1, y_train)\n",
    "y_val = np.where(y_val < 1, -1, y_val)"
   ]
  },
  {
   "cell_type": "markdown",
   "id": "ecec5e98",
   "metadata": {},
   "source": [
    "# Modelling"
   ]
  },
  {
   "cell_type": "code",
   "execution_count": 14,
   "id": "d5c5fc26",
   "metadata": {},
   "outputs": [],
   "source": [
    "#Implementing AdaBoost using OOPS\n",
    "class AdaBoost():\n",
    "    def __init__(self):\n",
    "        self.forest = None #stores the forest\n",
    "        self.smoothingFactor = 10 ** -10\n",
    "        self.w = None #sample weights\n",
    "        self.pred = None #predictions\n",
    "        self.acc = None #accuracy on a test/train set\n",
    "        self.n_estimators = None #number of estimators/trees\n",
    "        self.bestAcc = None #stores the best accuracy\n",
    "        self.bestNEstimators = None #best number of estimators to use\n",
    "    \n",
    "    def fit(self, X_train, y_train, n_estimators = 100, random_state = 42):\n",
    "        #fit method to train the model\n",
    "        self.n_estimators = n_estimators\n",
    "        self.forest = []\n",
    "        for i in range(n_estimators):\n",
    "            if i == 0:\n",
    "                self.w = np.full(len(y_train), 1 / len(y_train)) #initialize sample weights\n",
    "            dt = DecisionTreeClassifier(max_depth = 1, max_leaf_nodes = 2, random_state = random_state) #create a stub(small tree with only one node)\n",
    "            dt.fit(X_train, y_train, sample_weight = self.w) #train the stub\n",
    "            pred = dt.predict(X_train) #get stub prediction\n",
    "            \n",
    "            wrongPred = y_train != pred #get all the wrong predictions\n",
    "            correctPred = y_train == pred #get all the correct predictions\n",
    "            totalError = self.w[wrongPred].sum() + self.smoothingFactor #calculate the total error\n",
    "            alpha = 0.5 * np.log((1 - totalError) / totalError) #calculate alpha\n",
    "            self.forest.append((dt, alpha)) #add the stub and it's corresponding alpha value in the forest array\n",
    "            \n",
    "            #update weights\n",
    "            newWeights = self.w[wrongPred] * np.exp(alpha) #increase the weight of incorrect predictions\n",
    "            self.w[wrongPred] = newWeights #update weights\n",
    "            newWeights = self.w[correctPred] * np.exp(-alpha) #decrease the weight of correct predictions\n",
    "            self.w[correctPred] = newWeights #update weights\n",
    "            \n",
    "            #normalize the new weights\n",
    "            currWeight = self.w.sum()\n",
    "            self.w = self.w / currWeight\n",
    "        \n",
    "    def evaluate(self, X, y):\n",
    "        #method to evaluate the model on the test data\n",
    "        self.__getAcc__(X, y) #get accuracy till each stub\n",
    "        self.bestAcc = max(self.acc) #store the best accuracy\n",
    "        self.bestNEstimators = self.acc.index(self.bestAcc) + 1 #store the best estimator limit\n",
    "        #plot accuracy over estimators\n",
    "        plt.plot(range(self.n_estimators), self.acc)\n",
    "        plt.xlabel(\"Number of estimators\")\n",
    "        plt.ylabel(\"Accuracy\")\n",
    "        plt.title(\"Accuracy vs n_estimators\")\n",
    "        print(\"Best Accuracy :\", self.bestAcc)\n",
    "        print(\"Best Number of Estimators :\", self.bestNEstimators)\n",
    "            \n",
    "    def __getAcc__(self, X, y):\n",
    "        #helper method to get accuracy till each stub\n",
    "        self.acc = []\n",
    "        for i in range(self.n_estimators):\n",
    "            p = self.__predict__(X, i + 1)\n",
    "            acc = accuracy_score(y, p)\n",
    "            self.acc.append(acc)\n",
    "    \n",
    "    def predict(self, X_val):\n",
    "        #prediction method\n",
    "        self.pred = self.__predict__(X_val, self.n_estimators)\n",
    "        return self.pred\n",
    "    \n",
    "    def __predict__(self, X, size):\n",
    "        #helper method to predict till each stub\n",
    "        pred = []\n",
    "        for dt, alpha in self.forest[:size]:\n",
    "            p = dt.predict(X)\n",
    "            p = p * alpha\n",
    "            pred.append(p)\n",
    "        pred = np.array(pred)\n",
    "        pred = np.sum(pred, axis = 0)\n",
    "        pred = np.where(pred > 0, 1, -1)\n",
    "        return pred"
   ]
  },
  {
   "cell_type": "markdown",
   "id": "f6cc7d62",
   "metadata": {},
   "source": [
    "# Training the model"
   ]
  },
  {
   "cell_type": "code",
   "execution_count": 15,
   "id": "4e0ec91f",
   "metadata": {},
   "outputs": [],
   "source": [
    "ada = AdaBoost()\n",
    "ada.fit(X_train, y_train, 500)"
   ]
  },
  {
   "cell_type": "code",
   "execution_count": 16,
   "id": "fde24494",
   "metadata": {},
   "outputs": [
    {
     "name": "stdout",
     "output_type": "stream",
     "text": [
      "Classification Report for Training Set\n",
      "\n",
      "              precision    recall  f1-score   support\n",
      "\n",
      "          -1       0.86      0.88      0.87       444\n",
      "           1       0.80      0.75      0.77       268\n",
      "\n",
      "    accuracy                           0.83       712\n",
      "   macro avg       0.83      0.82      0.82       712\n",
      "weighted avg       0.83      0.83      0.83       712\n",
      "\n"
     ]
    }
   ],
   "source": [
    "print(\"Classification Report for Training Set\")\n",
    "print()\n",
    "pred = ada.predict(X_train)\n",
    "print(classification_report(y_train, pred))"
   ]
  },
  {
   "cell_type": "markdown",
   "id": "b1f7e83c",
   "metadata": {},
   "source": [
    "# Evaluating the model"
   ]
  },
  {
   "cell_type": "code",
   "execution_count": 17,
   "id": "58940d03",
   "metadata": {},
   "outputs": [
    {
     "name": "stdout",
     "output_type": "stream",
     "text": [
      "Classification Report for Testing Set\n",
      "\n",
      "              precision    recall  f1-score   support\n",
      "\n",
      "          -1       0.83      0.84      0.83       105\n",
      "           1       0.77      0.76      0.76        74\n",
      "\n",
      "    accuracy                           0.80       179\n",
      "   macro avg       0.80      0.80      0.80       179\n",
      "weighted avg       0.80      0.80      0.80       179\n",
      "\n"
     ]
    }
   ],
   "source": [
    "print(\"Classification Report for Testing Set\")\n",
    "print()\n",
    "pred = ada.predict(X_val)\n",
    "print(classification_report(y_val, pred))"
   ]
  },
  {
   "cell_type": "markdown",
   "id": "ab364f86",
   "metadata": {},
   "source": [
    "# Finding the best accuracy and estimators for training and testing set"
   ]
  },
  {
   "cell_type": "code",
   "execution_count": 18,
   "id": "56f97d8c",
   "metadata": {},
   "outputs": [
    {
     "name": "stdout",
     "output_type": "stream",
     "text": [
      "Graph and best parameters for Training Set\n",
      "\n",
      "Best Accuracy : 0.8370786516853933\n",
      "Best Number of Estimators : 445\n"
     ]
    },
    {
     "data": {
      "image/png": "[encoded data removed]",
      "text/plain": [
       "<Figure size 432x288 with 1 Axes>"
      ]
     },
     "metadata": {
      "needs_background": "light"
     },
     "output_type": "display_data"
    }
   ],
   "source": [
    "print(\"Graph and best parameters for Training Set\")\n",
    "print()\n",
    "ada.evaluate(X_train, y_train)"
   ]
  },
  {
   "cell_type": "code",
   "execution_count": 19,
   "id": "8407399f",
   "metadata": {},
   "outputs": [
    {
     "name": "stdout",
     "output_type": "stream",
     "text": [
      "Graph and best parameters for Testing Set\n",
      "\n",
      "Best Accuracy : 0.8156424581005587\n",
      "Best Number of Estimators : 199\n"
     ]
    },
    {
     "data": {
      "image/png": "[encoded data removed]",
      "text/plain": [
       "<Figure size 432x288 with 1 Axes>"
      ]
     },
     "metadata": {
      "needs_background": "light"
     },
     "output_type": "display_data"
    }
   ],
   "source": [
    "print(\"Graph and best parameters for Testing Set\")\n",
    "print()\n",
    "ada.evaluate(X_val, y_val)"
   ]
  },
  {
   "cell_type": "code",
   "execution_count": null,
   "id": "78197142",
   "metadata": {},
   "outputs": [],
   "source": []
  }
 ],
 "metadata": {
  "kernelspec": {
   "display_name": "Python 3 (ipykernel)",
   "language": "python",
   "name": "python3"
  },
  "language_info": {
   "codemirror_mode": {
    "name": "ipython",
    "version": 3
   },
   "file_extension": ".py",
   "mimetype": "text/x-python",
   "name": "python",
   "nbconvert_exporter": "python",
   "pygments_lexer": "ipython3",
   "version": "3.9.7"
  }
 },
 "nbformat": 4,
 "nbformat_minor": 5
}
