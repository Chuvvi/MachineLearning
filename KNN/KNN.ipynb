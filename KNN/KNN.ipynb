{
 "cells": [
  {
   "cell_type": "markdown",
   "id": "46de6504",
   "metadata": {},
   "source": [
    "# Importing Libraries"
   ]
  },
  {
   "cell_type": "code",
   "execution_count": 1,
   "id": "d93405c8",
   "metadata": {},
   "outputs": [],
   "source": [
    "import numpy as np\n",
    "import pandas as pd\n",
    "from sklearn.model_selection import train_test_split\n",
    "from sklearn.metrics import classification_report\n",
    "from sklearn.metrics import accuracy_score"
   ]
  },
  {
   "cell_type": "markdown",
   "id": "cd6dea84",
   "metadata": {},
   "source": [
    "# Data preprocessing"
   ]
  },
  {
   "cell_type": "code",
   "execution_count": 2,
   "id": "dd00d22b",
   "metadata": {},
   "outputs": [],
   "source": [
    "data = pd.read_csv('yeast.data', delim_whitespace = True, header=None)"
   ]
  },
  {
   "cell_type": "code",
   "execution_count": 3,
   "id": "8c589aad",
   "metadata": {},
   "outputs": [
    {
     "data": {
      "text/html": [
       "<div>\n",
       "<style scoped>\n",
       "    .dataframe tbody tr th:only-of-type {\n",
       "        vertical-align: middle;\n",
       "    }\n",
       "\n",
       "    .dataframe tbody tr th {\n",
       "        vertical-align: top;\n",
       "    }\n",
       "\n",
       "    .dataframe thead th {\n",
       "        text-align: right;\n",
       "    }\n",
       "</style>\n",
       "<table border=\"1\" class=\"dataframe\">\n",
       "  <thead>\n",
       "    <tr style=\"text-align: right;\">\n",
       "      <th></th>\n",
       "      <th>0</th>\n",
       "      <th>1</th>\n",
       "      <th>2</th>\n",
       "      <th>3</th>\n",
       "      <th>4</th>\n",
       "      <th>5</th>\n",
       "      <th>6</th>\n",
       "      <th>7</th>\n",
       "      <th>8</th>\n",
       "      <th>9</th>\n",
       "    </tr>\n",
       "  </thead>\n",
       "  <tbody>\n",
       "    <tr>\n",
       "      <th>0</th>\n",
       "      <td>ADT1_YEAST</td>\n",
       "      <td>0.58</td>\n",
       "      <td>0.61</td>\n",
       "      <td>0.47</td>\n",
       "      <td>0.13</td>\n",
       "      <td>0.5</td>\n",
       "      <td>0.0</td>\n",
       "      <td>0.48</td>\n",
       "      <td>0.22</td>\n",
       "      <td>MIT</td>\n",
       "    </tr>\n",
       "    <tr>\n",
       "      <th>1</th>\n",
       "      <td>ADT2_YEAST</td>\n",
       "      <td>0.43</td>\n",
       "      <td>0.67</td>\n",
       "      <td>0.48</td>\n",
       "      <td>0.27</td>\n",
       "      <td>0.5</td>\n",
       "      <td>0.0</td>\n",
       "      <td>0.53</td>\n",
       "      <td>0.22</td>\n",
       "      <td>MIT</td>\n",
       "    </tr>\n",
       "    <tr>\n",
       "      <th>2</th>\n",
       "      <td>ADT3_YEAST</td>\n",
       "      <td>0.64</td>\n",
       "      <td>0.62</td>\n",
       "      <td>0.49</td>\n",
       "      <td>0.15</td>\n",
       "      <td>0.5</td>\n",
       "      <td>0.0</td>\n",
       "      <td>0.53</td>\n",
       "      <td>0.22</td>\n",
       "      <td>MIT</td>\n",
       "    </tr>\n",
       "    <tr>\n",
       "      <th>3</th>\n",
       "      <td>AAR2_YEAST</td>\n",
       "      <td>0.58</td>\n",
       "      <td>0.44</td>\n",
       "      <td>0.57</td>\n",
       "      <td>0.13</td>\n",
       "      <td>0.5</td>\n",
       "      <td>0.0</td>\n",
       "      <td>0.54</td>\n",
       "      <td>0.22</td>\n",
       "      <td>NUC</td>\n",
       "    </tr>\n",
       "    <tr>\n",
       "      <th>4</th>\n",
       "      <td>AATM_YEAST</td>\n",
       "      <td>0.42</td>\n",
       "      <td>0.44</td>\n",
       "      <td>0.48</td>\n",
       "      <td>0.54</td>\n",
       "      <td>0.5</td>\n",
       "      <td>0.0</td>\n",
       "      <td>0.48</td>\n",
       "      <td>0.22</td>\n",
       "      <td>MIT</td>\n",
       "    </tr>\n",
       "  </tbody>\n",
       "</table>\n",
       "</div>"
      ],
      "text/plain": [
       "            0     1     2     3     4    5    6     7     8    9\n",
       "0  ADT1_YEAST  0.58  0.61  0.47  0.13  0.5  0.0  0.48  0.22  MIT\n",
       "1  ADT2_YEAST  0.43  0.67  0.48  0.27  0.5  0.0  0.53  0.22  MIT\n",
       "2  ADT3_YEAST  0.64  0.62  0.49  0.15  0.5  0.0  0.53  0.22  MIT\n",
       "3  AAR2_YEAST  0.58  0.44  0.57  0.13  0.5  0.0  0.54  0.22  NUC\n",
       "4  AATM_YEAST  0.42  0.44  0.48  0.54  0.5  0.0  0.48  0.22  MIT"
      ]
     },
     "execution_count": 3,
     "metadata": {},
     "output_type": "execute_result"
    }
   ],
   "source": [
    "data.head()"
   ]
  },
  {
   "cell_type": "code",
   "execution_count": 4,
   "id": "d3e23f38",
   "metadata": {},
   "outputs": [],
   "source": [
    "#dropping redundant columns\n",
    "data.drop(0, axis = 1, inplace=True)"
   ]
  },
  {
   "cell_type": "code",
   "execution_count": 5,
   "id": "cdc149c0",
   "metadata": {},
   "outputs": [
    {
     "data": {
      "text/plain": [
       "1    0\n",
       "2    0\n",
       "3    0\n",
       "4    0\n",
       "5    0\n",
       "6    0\n",
       "7    0\n",
       "8    0\n",
       "9    0\n",
       "dtype: int64"
      ]
     },
     "execution_count": 5,
     "metadata": {},
     "output_type": "execute_result"
    }
   ],
   "source": [
    "#checking for null values\n",
    "data.isna().sum()"
   ]
  },
  {
   "cell_type": "code",
   "execution_count": 6,
   "id": "d4674c5b",
   "metadata": {},
   "outputs": [],
   "source": [
    "#seperating features and labels\n",
    "X = data.drop(9, axis = 1)\n",
    "y = data[9]"
   ]
  },
  {
   "cell_type": "code",
   "execution_count": 7,
   "id": "1fa0c7a1",
   "metadata": {},
   "outputs": [],
   "source": [
    "#getting the training and testing sets\n",
    "X_train, X_val, y_train, y_val = train_test_split(X, y, random_state = 42)"
   ]
  },
  {
   "cell_type": "markdown",
   "id": "72252f1b",
   "metadata": {},
   "source": [
    "# Modelling"
   ]
  },
  {
   "cell_type": "code",
   "execution_count": 8,
   "id": "f259bcc0",
   "metadata": {},
   "outputs": [],
   "source": [
    "#Built using OOP\n",
    "class KNN():\n",
    "    def __init__(self):\n",
    "        #initialize the params and set them all to None\n",
    "        self.k = None\n",
    "        self.mu = None\n",
    "        self.std = None\n",
    "        self.X = None\n",
    "        self.y = None\n",
    "        \n",
    "    def fit(self, X, y, k):\n",
    "        #error Handling\n",
    "        if k < 1: raise ValueError(\"K cannot be less than 1\")\n",
    "        if k > X.shape[0]: raise ValueError(\"K cannot be more than the number of training samples\")\n",
    "        self.k = k\n",
    "        #normalize the data\n",
    "        self.mu = X.mean()\n",
    "        self.std = X.std()\n",
    "        self.X = (X - self.mu) / self.std\n",
    "        #data conversion for faster manipulation\n",
    "        if type(self.X) is not np.ndarray: self.X = self.X.to_numpy()\n",
    "        self.y = y\n",
    "        if type(y) is not pd.core.series.Series : self.y = pd.Series(y)\n",
    "        \n",
    "    def predict(self, X):\n",
    "        #normalize the data\n",
    "        X = ((X - self.mu) / self.std)\n",
    "        if type(X) is not np.ndarray: X = X.to_numpy()\n",
    "        op = []\n",
    "        for a in X:\n",
    "            dist = self.getDist(self.X - a)\n",
    "            #get k smallest values\n",
    "            kidx = np.argpartition(dist, self.k)[:self.k]\n",
    "            preds = self.y.iloc[kidx]\n",
    "            pred = preds.mode()\n",
    "            op.append(pred[0])\n",
    "        return op\n",
    "        \n",
    "    def getDist(self, a):\n",
    "        #return Euclidean Distance\n",
    "        return np.sqrt(np.sum(np.square(a), axis = 1))"
   ]
  },
  {
   "cell_type": "markdown",
   "id": "e1f05bb9",
   "metadata": {},
   "source": [
    "# Training the model"
   ]
  },
  {
   "cell_type": "code",
   "execution_count": 9,
   "id": "c473a5aa",
   "metadata": {},
   "outputs": [],
   "source": [
    "knn = KNN()\n",
    "knn.fit(X_train, y_train, 5)"
   ]
  },
  {
   "cell_type": "markdown",
   "id": "b2db21bc",
   "metadata": {},
   "source": [
    "# Testing the model's performance"
   ]
  },
  {
   "cell_type": "code",
   "execution_count": 10,
   "id": "39f0cd00",
   "metadata": {},
   "outputs": [
    {
     "name": "stdout",
     "output_type": "stream",
     "text": [
      "              precision    recall  f1-score   support\n",
      "\n",
      "         CYT       0.55      0.63      0.59       119\n",
      "         EXC       0.50      0.44      0.47         9\n",
      "         ME1       0.69      0.92      0.79        12\n",
      "         ME2       0.40      0.22      0.29         9\n",
      "         ME3       0.81      0.81      0.81        42\n",
      "         MIT       0.61      0.62      0.62        64\n",
      "         NUC       0.55      0.50      0.52       105\n",
      "         POX       1.00      0.67      0.80         3\n",
      "         VAC       0.00      0.00      0.00         8\n",
      "\n",
      "    accuracy                           0.59       371\n",
      "   macro avg       0.57      0.53      0.54       371\n",
      "weighted avg       0.58      0.59      0.58       371\n",
      "\n"
     ]
    }
   ],
   "source": [
    "pred = knn.predict(X_val)\n",
    "print(classification_report(y_val, pred))"
   ]
  },
  {
   "cell_type": "markdown",
   "id": "ff0ed1a9",
   "metadata": {},
   "source": [
    "# Hyperparameter tuning"
   ]
  },
  {
   "cell_type": "code",
   "execution_count": 11,
   "id": "65a63438",
   "metadata": {},
   "outputs": [],
   "source": [
    "def kcv(kfold, X, y, knn):\n",
    "    #returns the best k based on accuracy\n",
    "    dataSize = int(X.shape[0] / kfold)\n",
    "    score = 0\n",
    "    op = 0\n",
    "    for i in range(kfold):\n",
    "        X_val = X[i * dataSize : (i + 1) * dataSize]\n",
    "        y_val = y[i * dataSize : (i + 1) * dataSize]\n",
    "        X_train = np.concatenate((X[ : i * dataSize], X[(i + 1) * dataSize : ]), axis = 0)\n",
    "        y_train = np.concatenate((y[ : i * dataSize], y[(i + 1) * dataSize : ]), axis = 0)\n",
    "        for k in knn:\n",
    "            model = KNN()\n",
    "            model.fit(X_train, y_train, k)\n",
    "            pred = model.predict(X_val)\n",
    "            acc = accuracy_score(y_val, pred)\n",
    "            if acc > score:\n",
    "                score = acc\n",
    "                op = k\n",
    "    return op"
   ]
  },
  {
   "cell_type": "code",
   "execution_count": 12,
   "id": "c32451ac",
   "metadata": {},
   "outputs": [],
   "source": [
    "#Initialize different values of k for tuning\n",
    "k1 = [i for i in range(1, 6)]\n",
    "k5 = [i for i in range(10, 49, 5)]\n",
    "k10 = [i for i in range(50, 101, 10)]\n",
    "k = k1 + k5 + k10"
   ]
  },
  {
   "cell_type": "code",
   "execution_count": 13,
   "id": "25a670f0",
   "metadata": {},
   "outputs": [],
   "source": [
    "k = kcv(5, X_train, y_train, k)"
   ]
  },
  {
   "cell_type": "markdown",
   "id": "e0f4a8fa",
   "metadata": {},
   "source": [
    "# Using optimal K and training the model"
   ]
  },
  {
   "cell_type": "code",
   "execution_count": 14,
   "id": "bf649064",
   "metadata": {},
   "outputs": [
    {
     "name": "stdout",
     "output_type": "stream",
     "text": [
      "              precision    recall  f1-score   support\n",
      "\n",
      "         CYT       0.54      0.69      0.61       119\n",
      "         EXC       0.36      0.44      0.40         9\n",
      "         ME1       0.83      0.83      0.83        12\n",
      "         ME2       0.67      0.44      0.53         9\n",
      "         ME3       0.82      0.79      0.80        42\n",
      "         MIT       0.70      0.61      0.65        64\n",
      "         NUC       0.55      0.50      0.52       105\n",
      "         POX       0.00      0.00      0.00         3\n",
      "         VAC       0.00      0.00      0.00         8\n",
      "\n",
      "    accuracy                           0.60       371\n",
      "   macro avg       0.50      0.48      0.48       371\n",
      "weighted avg       0.60      0.60      0.59       371\n",
      "\n"
     ]
    },
    {
     "name": "stderr",
     "output_type": "stream",
     "text": [
      "C:\\Python\\lib\\site-packages\\sklearn\\metrics\\_classification.py:1308: UndefinedMetricWarning: Precision and F-score are ill-defined and being set to 0.0 in labels with no predicted samples. Use `zero_division` parameter to control this behavior.\n",
      "  _warn_prf(average, modifier, msg_start, len(result))\n",
      "C:\\Python\\lib\\site-packages\\sklearn\\metrics\\_classification.py:1308: UndefinedMetricWarning: Precision and F-score are ill-defined and being set to 0.0 in labels with no predicted samples. Use `zero_division` parameter to control this behavior.\n",
      "  _warn_prf(average, modifier, msg_start, len(result))\n",
      "C:\\Python\\lib\\site-packages\\sklearn\\metrics\\_classification.py:1308: UndefinedMetricWarning: Precision and F-score are ill-defined and being set to 0.0 in labels with no predicted samples. Use `zero_division` parameter to control this behavior.\n",
      "  _warn_prf(average, modifier, msg_start, len(result))\n"
     ]
    }
   ],
   "source": [
    "knn = KNN()\n",
    "knn.fit(X_train, y_train, k)\n",
    "pred = knn.predict(X_val)\n",
    "print(classification_report(y_val, pred))"
   ]
  },
  {
   "cell_type": "code",
   "execution_count": null,
   "id": "f6d05e71",
   "metadata": {},
   "outputs": [],
   "source": []
  }
 ],
 "metadata": {
  "kernelspec": {
   "display_name": "Python 3 (ipykernel)",
   "language": "python",
   "name": "python3"
  },
  "language_info": {
   "codemirror_mode": {
    "name": "ipython",
    "version": 3
   },
   "file_extension": ".py",
   "mimetype": "text/x-python",
   "name": "python",
   "nbconvert_exporter": "python",
   "pygments_lexer": "ipython3",
   "version": "3.9.7"
  }
 },
 "nbformat": 4,
 "nbformat_minor": 5
}
