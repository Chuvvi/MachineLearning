{
 "cells": [
  {
   "cell_type": "markdown",
   "id": "318da5f6",
   "metadata": {},
   "source": [
    "## Importing Libraries"
   ]
  },
  {
   "cell_type": "code",
   "execution_count": 1,
   "id": "24f010dc",
   "metadata": {},
   "outputs": [],
   "source": [
    "import numpy as np\n",
    "import pandas as pd\n",
    "from sklearn.model_selection import train_test_split\n",
    "from sklearn.metrics import classification_report"
   ]
  },
  {
   "cell_type": "markdown",
   "id": "8f77e6e4",
   "metadata": {},
   "source": [
    "## Data Preprocessing"
   ]
  },
  {
   "cell_type": "code",
   "execution_count": 2,
   "id": "e1f34fd5",
   "metadata": {},
   "outputs": [],
   "source": [
    "data = pd.read_csv('processed.cleveland.data', header = None)"
   ]
  },
  {
   "cell_type": "code",
   "execution_count": 3,
   "id": "57d6d2d8",
   "metadata": {},
   "outputs": [
    {
     "data": {
      "text/html": [
       "<div>\n",
       "<style scoped>\n",
       "    .dataframe tbody tr th:only-of-type {\n",
       "        vertical-align: middle;\n",
       "    }\n",
       "\n",
       "    .dataframe tbody tr th {\n",
       "        vertical-align: top;\n",
       "    }\n",
       "\n",
       "    .dataframe thead th {\n",
       "        text-align: right;\n",
       "    }\n",
       "</style>\n",
       "<table border=\"1\" class=\"dataframe\">\n",
       "  <thead>\n",
       "    <tr style=\"text-align: right;\">\n",
       "      <th></th>\n",
       "      <th>0</th>\n",
       "      <th>1</th>\n",
       "      <th>2</th>\n",
       "      <th>3</th>\n",
       "      <th>4</th>\n",
       "      <th>5</th>\n",
       "      <th>6</th>\n",
       "      <th>7</th>\n",
       "      <th>8</th>\n",
       "      <th>9</th>\n",
       "      <th>10</th>\n",
       "      <th>11</th>\n",
       "      <th>12</th>\n",
       "      <th>13</th>\n",
       "    </tr>\n",
       "  </thead>\n",
       "  <tbody>\n",
       "    <tr>\n",
       "      <th>0</th>\n",
       "      <td>63.0</td>\n",
       "      <td>1.0</td>\n",
       "      <td>1.0</td>\n",
       "      <td>145.0</td>\n",
       "      <td>233.0</td>\n",
       "      <td>1.0</td>\n",
       "      <td>2.0</td>\n",
       "      <td>150.0</td>\n",
       "      <td>0.0</td>\n",
       "      <td>2.3</td>\n",
       "      <td>3.0</td>\n",
       "      <td>0.0</td>\n",
       "      <td>6.0</td>\n",
       "      <td>0</td>\n",
       "    </tr>\n",
       "    <tr>\n",
       "      <th>1</th>\n",
       "      <td>67.0</td>\n",
       "      <td>1.0</td>\n",
       "      <td>4.0</td>\n",
       "      <td>160.0</td>\n",
       "      <td>286.0</td>\n",
       "      <td>0.0</td>\n",
       "      <td>2.0</td>\n",
       "      <td>108.0</td>\n",
       "      <td>1.0</td>\n",
       "      <td>1.5</td>\n",
       "      <td>2.0</td>\n",
       "      <td>3.0</td>\n",
       "      <td>3.0</td>\n",
       "      <td>2</td>\n",
       "    </tr>\n",
       "    <tr>\n",
       "      <th>2</th>\n",
       "      <td>67.0</td>\n",
       "      <td>1.0</td>\n",
       "      <td>4.0</td>\n",
       "      <td>120.0</td>\n",
       "      <td>229.0</td>\n",
       "      <td>0.0</td>\n",
       "      <td>2.0</td>\n",
       "      <td>129.0</td>\n",
       "      <td>1.0</td>\n",
       "      <td>2.6</td>\n",
       "      <td>2.0</td>\n",
       "      <td>2.0</td>\n",
       "      <td>7.0</td>\n",
       "      <td>1</td>\n",
       "    </tr>\n",
       "    <tr>\n",
       "      <th>3</th>\n",
       "      <td>37.0</td>\n",
       "      <td>1.0</td>\n",
       "      <td>3.0</td>\n",
       "      <td>130.0</td>\n",
       "      <td>250.0</td>\n",
       "      <td>0.0</td>\n",
       "      <td>0.0</td>\n",
       "      <td>187.0</td>\n",
       "      <td>0.0</td>\n",
       "      <td>3.5</td>\n",
       "      <td>3.0</td>\n",
       "      <td>0.0</td>\n",
       "      <td>3.0</td>\n",
       "      <td>0</td>\n",
       "    </tr>\n",
       "    <tr>\n",
       "      <th>4</th>\n",
       "      <td>41.0</td>\n",
       "      <td>0.0</td>\n",
       "      <td>2.0</td>\n",
       "      <td>130.0</td>\n",
       "      <td>204.0</td>\n",
       "      <td>0.0</td>\n",
       "      <td>2.0</td>\n",
       "      <td>172.0</td>\n",
       "      <td>0.0</td>\n",
       "      <td>1.4</td>\n",
       "      <td>1.0</td>\n",
       "      <td>0.0</td>\n",
       "      <td>3.0</td>\n",
       "      <td>0</td>\n",
       "    </tr>\n",
       "  </tbody>\n",
       "</table>\n",
       "</div>"
      ],
      "text/plain": [
       "     0    1    2      3      4    5    6      7    8    9    10   11   12  13\n",
       "0  63.0  1.0  1.0  145.0  233.0  1.0  2.0  150.0  0.0  2.3  3.0  0.0  6.0   0\n",
       "1  67.0  1.0  4.0  160.0  286.0  0.0  2.0  108.0  1.0  1.5  2.0  3.0  3.0   2\n",
       "2  67.0  1.0  4.0  120.0  229.0  0.0  2.0  129.0  1.0  2.6  2.0  2.0  7.0   1\n",
       "3  37.0  1.0  3.0  130.0  250.0  0.0  0.0  187.0  0.0  3.5  3.0  0.0  3.0   0\n",
       "4  41.0  0.0  2.0  130.0  204.0  0.0  2.0  172.0  0.0  1.4  1.0  0.0  3.0   0"
      ]
     },
     "execution_count": 3,
     "metadata": {},
     "output_type": "execute_result"
    }
   ],
   "source": [
    "data.head()"
   ]
  },
  {
   "cell_type": "code",
   "execution_count": 4,
   "id": "16264660",
   "metadata": {},
   "outputs": [],
   "source": [
    "#filtering out non-numerical columns\n",
    "catCols = []\n",
    "for col in data.columns:\n",
    "    if data[col].dtype == 'object':\n",
    "        catCols.append(col)"
   ]
  },
  {
   "cell_type": "code",
   "execution_count": 5,
   "id": "d7f50d79",
   "metadata": {},
   "outputs": [
    {
     "name": "stdout",
     "output_type": "stream",
     "text": [
      "Shape before removing invalid data (303, 14)\n",
      "Shape after removing invalid data (297, 14)\n"
     ]
    }
   ],
   "source": [
    "#dumping rows with invalid feature values\n",
    "print(\"Shape before removing invalid data \" + str(data.shape))\n",
    "for col in catCols:\n",
    "    idx = data[data[col] == \"?\"].index\n",
    "    data.drop(idx, inplace = True)\n",
    "print(\"Shape after removing invalid data \" + str(data.shape))"
   ]
  },
  {
   "cell_type": "code",
   "execution_count": 6,
   "id": "3fee3692",
   "metadata": {},
   "outputs": [],
   "source": [
    "#converting categorical columns into numericals cols\n",
    "for col in catCols:\n",
    "    data[col] = data[col].astype('float64')"
   ]
  },
  {
   "cell_type": "code",
   "execution_count": 7,
   "id": "c4a91cac",
   "metadata": {},
   "outputs": [],
   "source": [
    "#Splitting the data into features and labels\n",
    "X = data.drop(13, axis = 1)\n",
    "y = data[13]"
   ]
  },
  {
   "cell_type": "code",
   "execution_count": 8,
   "id": "31a3c8f7",
   "metadata": {},
   "outputs": [],
   "source": [
    "#Converting multiclass labels to binary labels\n",
    "y = np.where(y == 0, -1, 1)"
   ]
  },
  {
   "cell_type": "code",
   "execution_count": 9,
   "id": "3a234d0f",
   "metadata": {},
   "outputs": [],
   "source": [
    "#Splitting the data into training and testing sets\n",
    "X_train, X_val, y_train, y_val = train_test_split(X, y, test_size = 0.2, random_state = 42)"
   ]
  },
  {
   "cell_type": "code",
   "execution_count": 10,
   "id": "8a5b15f7",
   "metadata": {},
   "outputs": [],
   "source": [
    "#Normalizing the dataset\n",
    "mu = X_train.mean(axis = 0)\n",
    "std = X_train.std(axis = 0)\n",
    "X_train = (X_train - mu) / std\n",
    "X_val = (X_val - mu) / std"
   ]
  },
  {
   "cell_type": "code",
   "execution_count": 11,
   "id": "7745aaaa",
   "metadata": {},
   "outputs": [],
   "source": [
    "#Concatenating ones for the training and testing set\n",
    "X_train = np.concatenate((X_train, np.ones((X_train.shape[0],1))), axis = 1)\n",
    "X_val = np.concatenate((X_val, np.ones((X_val.shape[0], 1))), axis = 1)"
   ]
  },
  {
   "cell_type": "markdown",
   "id": "effdd06d",
   "metadata": {},
   "source": [
    "## Modelling"
   ]
  },
  {
   "cell_type": "code",
   "execution_count": 12,
   "id": "ea4b0969",
   "metadata": {},
   "outputs": [],
   "source": [
    "#Created a model using OOP\n",
    "class lda():\n",
    "    #Initialization\n",
    "    def __init__(self):\n",
    "        #Initialize all the required params to None\n",
    "        self.w = None #weights\n",
    "        self.pos = None #positive class params\n",
    "        self.neg = None #negative class params\n",
    "        self.mp = None #positive class mean\n",
    "        self.mn = None #negative class mean\n",
    "        self.sp = None #postive class variance\n",
    "        self.sn = None #negative class variance\n",
    "        self.sw = None #within class scatter matrix\n",
    "        self.pred = None #predictions\n",
    "        \n",
    "    #Fitting the model    \n",
    "    def fit(self, X_train, y_train):\n",
    "        self.pos = X_train[y_train > 0] #get all postive class features\n",
    "        self.neg = X_train[y_train < 0] #get all negative class features\n",
    "        self.mp = self.pos.mean(axis = 0) #compute postive class mean\n",
    "        self.mn = self.neg.mean(axis = 0) #compute negative class mean\n",
    "        self.sp = np.dot((self.pos - self.mp).T, (self.pos - self.mp)) #compute postive class variance\n",
    "        self.sn = np.dot((self.neg - self.mn).T, (self.neg - self.mn)) #compute negative class variance\n",
    "        self.sw = self.sp + self.sn #compute within class scatter matrix\n",
    "        swInv = np.linalg.pinv(self.sw) #compute within class scatter matrix inverse\n",
    "        self.w = np.dot(swInv, (self.mp - self.mn)) #compute weights\n",
    "    \n",
    "    #prediction\n",
    "    def predict(self, X_val, threshold = 0):\n",
    "        #threshold is set to 0 by default.\n",
    "        self.pred = np.dot(X_val, self.w) #compute prediction\n",
    "        self.pred = np.where(self.pred >= threshold, 1, -1) #assign labels based on predictions\n",
    "        return self.pred\n",
    "    \n",
    "    #returns weight\n",
    "    def getWeights(self):\n",
    "        return self.w"
   ]
  },
  {
   "cell_type": "markdown",
   "id": "10e4e45c",
   "metadata": {},
   "source": [
    "## Working"
   ]
  },
  {
   "cell_type": "code",
   "execution_count": 13,
   "id": "ec0eeb2c",
   "metadata": {},
   "outputs": [],
   "source": [
    "flda = lda()"
   ]
  },
  {
   "cell_type": "code",
   "execution_count": 14,
   "id": "4b50b927",
   "metadata": {},
   "outputs": [],
   "source": [
    "flda.fit(X_train, y_train)"
   ]
  },
  {
   "cell_type": "code",
   "execution_count": 15,
   "id": "adae8085",
   "metadata": {},
   "outputs": [
    {
     "data": {
      "text/plain": [
       "array([-1, -1, -1,  1, -1, -1, -1,  1,  1, -1,  1, -1, -1, -1, -1, -1, -1,\n",
       "        1,  1, -1,  1,  1,  1, -1,  1, -1,  1,  1, -1, -1, -1, -1,  1, -1,\n",
       "       -1, -1,  1, -1,  1,  1, -1,  1,  1,  1, -1, -1, -1,  1, -1, -1, -1,\n",
       "        1, -1, -1,  1,  1, -1, -1,  1,  1])"
      ]
     },
     "execution_count": 15,
     "metadata": {},
     "output_type": "execute_result"
    }
   ],
   "source": [
    "pred = flda.predict(X_val)\n",
    "pred"
   ]
  },
  {
   "cell_type": "markdown",
   "id": "f5713ab4",
   "metadata": {},
   "source": [
    "## Checking the accuracy of the model"
   ]
  },
  {
   "cell_type": "code",
   "execution_count": 16,
   "id": "58619a78",
   "metadata": {},
   "outputs": [
    {
     "name": "stdout",
     "output_type": "stream",
     "text": [
      "              precision    recall  f1-score   support\n",
      "\n",
      "          -1       0.91      0.89      0.90        36\n",
      "           1       0.84      0.88      0.86        24\n",
      "\n",
      "    accuracy                           0.88        60\n",
      "   macro avg       0.88      0.88      0.88        60\n",
      "weighted avg       0.88      0.88      0.88        60\n",
      "\n"
     ]
    }
   ],
   "source": [
    "print(classification_report(y_val, pred))"
   ]
  },
  {
   "cell_type": "code",
   "execution_count": null,
   "id": "eaa52f57",
   "metadata": {},
   "outputs": [],
   "source": []
  }
 ],
 "metadata": {
  "kernelspec": {
   "display_name": "Python 3 (ipykernel)",
   "language": "python",
   "name": "python3"
  },
  "language_info": {
   "codemirror_mode": {
    "name": "ipython",
    "version": 3
   },
   "file_extension": ".py",
   "mimetype": "text/x-python",
   "name": "python",
   "nbconvert_exporter": "python",
   "pygments_lexer": "ipython3",
   "version": "3.9.7"
  }
 },
 "nbformat": 4,
 "nbformat_minor": 5
}
