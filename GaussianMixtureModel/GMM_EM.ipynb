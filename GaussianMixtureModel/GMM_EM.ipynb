{
 "cells": [
  {
   "cell_type": "markdown",
   "id": "022afffb",
   "metadata": {},
   "source": [
    "# Importing Libraries"
   ]
  },
  {
   "cell_type": "code",
   "execution_count": 1,
   "id": "4bb6bd7f",
   "metadata": {},
   "outputs": [],
   "source": [
    "import numpy as np\n",
    "import pandas as pd\n",
    "import matplotlib.pyplot as plt\n",
    "from scipy.stats import multivariate_normal as gaussian"
   ]
  },
  {
   "cell_type": "markdown",
   "id": "21cfe806",
   "metadata": {},
   "source": [
    "# Data Preprocessing"
   ]
  },
  {
   "cell_type": "code",
   "execution_count": 2,
   "id": "0c319e5e",
   "metadata": {},
   "outputs": [],
   "source": [
    "data = pd.read_csv('multigauss.txt', sep = \" \", header = None)"
   ]
  },
  {
   "cell_type": "code",
   "execution_count": 3,
   "id": "4353c408",
   "metadata": {},
   "outputs": [
    {
     "data": {
      "text/html": [
       "<div>\n",
       "<style scoped>\n",
       "    .dataframe tbody tr th:only-of-type {\n",
       "        vertical-align: middle;\n",
       "    }\n",
       "\n",
       "    .dataframe tbody tr th {\n",
       "        vertical-align: top;\n",
       "    }\n",
       "\n",
       "    .dataframe thead th {\n",
       "        text-align: right;\n",
       "    }\n",
       "</style>\n",
       "<table border=\"1\" class=\"dataframe\">\n",
       "  <thead>\n",
       "    <tr style=\"text-align: right;\">\n",
       "      <th></th>\n",
       "      <th>0</th>\n",
       "      <th>1</th>\n",
       "      <th>2</th>\n",
       "    </tr>\n",
       "  </thead>\n",
       "  <tbody>\n",
       "    <tr>\n",
       "      <th>0</th>\n",
       "      <td>#</td>\n",
       "      <td>name:</td>\n",
       "      <td>XX</td>\n",
       "    </tr>\n",
       "    <tr>\n",
       "      <th>1</th>\n",
       "      <td>#</td>\n",
       "      <td>type:</td>\n",
       "      <td>matrix</td>\n",
       "    </tr>\n",
       "    <tr>\n",
       "      <th>2</th>\n",
       "      <td>#</td>\n",
       "      <td>rows:</td>\n",
       "      <td>1250</td>\n",
       "    </tr>\n",
       "    <tr>\n",
       "      <th>3</th>\n",
       "      <td>#</td>\n",
       "      <td>columns:</td>\n",
       "      <td>2</td>\n",
       "    </tr>\n",
       "    <tr>\n",
       "      <th>4</th>\n",
       "      <td>NaN</td>\n",
       "      <td>1.343973435284349</td>\n",
       "      <td>0.1511043422294572</td>\n",
       "    </tr>\n",
       "  </tbody>\n",
       "</table>\n",
       "</div>"
      ],
      "text/plain": [
       "     0                  1                   2\n",
       "0    #              name:                  XX\n",
       "1    #              type:              matrix\n",
       "2    #              rows:                1250\n",
       "3    #           columns:                   2\n",
       "4  NaN  1.343973435284349  0.1511043422294572"
      ]
     },
     "execution_count": 3,
     "metadata": {},
     "output_type": "execute_result"
    }
   ],
   "source": [
    "data.head()"
   ]
  },
  {
   "cell_type": "code",
   "execution_count": 4,
   "id": "f08738da",
   "metadata": {},
   "outputs": [],
   "source": [
    "#Drop the redundant rows and columns\n",
    "data.drop(0, axis = 1, inplace = True)\n",
    "data.drop([0, 1, 2, 3], axis = 0, inplace = True)"
   ]
  },
  {
   "cell_type": "code",
   "execution_count": 5,
   "id": "abb7ae22",
   "metadata": {},
   "outputs": [
    {
     "data": {
      "text/html": [
       "<div>\n",
       "<style scoped>\n",
       "    .dataframe tbody tr th:only-of-type {\n",
       "        vertical-align: middle;\n",
       "    }\n",
       "\n",
       "    .dataframe tbody tr th {\n",
       "        vertical-align: top;\n",
       "    }\n",
       "\n",
       "    .dataframe thead th {\n",
       "        text-align: right;\n",
       "    }\n",
       "</style>\n",
       "<table border=\"1\" class=\"dataframe\">\n",
       "  <thead>\n",
       "    <tr style=\"text-align: right;\">\n",
       "      <th></th>\n",
       "      <th>1</th>\n",
       "      <th>2</th>\n",
       "    </tr>\n",
       "  </thead>\n",
       "  <tbody>\n",
       "    <tr>\n",
       "      <th>4</th>\n",
       "      <td>1.343973435284349</td>\n",
       "      <td>0.1511043422294572</td>\n",
       "    </tr>\n",
       "    <tr>\n",
       "      <th>5</th>\n",
       "      <td>0.9626717660160129</td>\n",
       "      <td>0.3827812289862362</td>\n",
       "    </tr>\n",
       "    <tr>\n",
       "      <th>6</th>\n",
       "      <td>0.5023257633515988</td>\n",
       "      <td>-0.1813927047883676</td>\n",
       "    </tr>\n",
       "    <tr>\n",
       "      <th>7</th>\n",
       "      <td>0.3677464033583122</td>\n",
       "      <td>0.804004582610822</td>\n",
       "    </tr>\n",
       "    <tr>\n",
       "      <th>8</th>\n",
       "      <td>-0.8079136978717317</td>\n",
       "      <td>0.2692090961704308</td>\n",
       "    </tr>\n",
       "  </tbody>\n",
       "</table>\n",
       "</div>"
      ],
      "text/plain": [
       "                     1                    2\n",
       "4    1.343973435284349   0.1511043422294572\n",
       "5   0.9626717660160129   0.3827812289862362\n",
       "6   0.5023257633515988  -0.1813927047883676\n",
       "7   0.3677464033583122    0.804004582610822\n",
       "8  -0.8079136978717317   0.2692090961704308"
      ]
     },
     "execution_count": 5,
     "metadata": {},
     "output_type": "execute_result"
    }
   ],
   "source": [
    "data.head()"
   ]
  },
  {
   "cell_type": "code",
   "execution_count": 6,
   "id": "c5f79513",
   "metadata": {},
   "outputs": [],
   "source": [
    "#converting datatype from Object to Float64\n",
    "data = data.astype('float64')"
   ]
  },
  {
   "cell_type": "code",
   "execution_count": 7,
   "id": "093b01cd",
   "metadata": {},
   "outputs": [
    {
     "data": {
      "text/plain": [
       "1    0\n",
       "2    0\n",
       "dtype: int64"
      ]
     },
     "execution_count": 7,
     "metadata": {},
     "output_type": "execute_result"
    }
   ],
   "source": [
    "#checking for null values\n",
    "data.isna().sum()"
   ]
  },
  {
   "cell_type": "markdown",
   "id": "66314e9a",
   "metadata": {},
   "source": [
    "# Modelling"
   ]
  },
  {
   "cell_type": "code",
   "execution_count": 8,
   "id": "35f74a5d",
   "metadata": {},
   "outputs": [],
   "source": [
    "#Built using oop\n",
    "class EM():\n",
    "    def __init__(self):\n",
    "        #initialize the params and set them all to None\n",
    "        self.k = None\n",
    "        self.mean = None\n",
    "        self.std = None\n",
    "        self.pi = None\n",
    "        self.mu = None\n",
    "        self.cov = None\n",
    "        self.ll = None\n",
    "        \n",
    "    def fit(self, X, K, random_state = 42, t = 1e-5):\n",
    "        # t is the threshold value\n",
    "        # If the difference between the old params and new params is lesser than t, then training will stop\n",
    "        self.k = K\n",
    "        #normalize the data\n",
    "        self.mean = X.mean()\n",
    "        self.std = X.std()\n",
    "        X = (X - self.mean) / self.std\n",
    "        n, f = X.shape\n",
    "        #initialize params according to their corresponding shapes\n",
    "        r = np.random.default_rng(random_state)\n",
    "        w = np.zeros((n, self.k))\n",
    "        self.pi = r.random((self.k, 1))\n",
    "        self.mu = r.random((self.k, f))\n",
    "        self.cov = np.array([np.identity(f)] * self.k)\n",
    "        self.ll = []\n",
    "        pi = self.pi.copy()\n",
    "        mu = self.mu.copy()\n",
    "        cov = self.cov.copy()\n",
    "        \n",
    "        while True:\n",
    "            #E step\n",
    "            #calculate weights\n",
    "            for k in range(self.k):\n",
    "                gauss = gaussian.pdf(X.values, self.mu[k], self.cov[k]) #get the nultivariate gaussian values using X, mu and cov\n",
    "                w[:, k] = self.pi[k] * gauss\n",
    "            \n",
    "            #calculate the log likelihood values\n",
    "            self.ll.append(np.sum(np.log(np.sum(w, axis = 1))))\n",
    "            wSum = np.sum(w, axis = 1, keepdims = True)\n",
    "            w /= wSum\n",
    "            Nk = np.sum(w, axis = 0, keepdims = True).T\n",
    "            \n",
    "            #M step\n",
    "            #get params from weights\n",
    "            self.pi = Nk / n\n",
    "            self.mu = np.dot(w.T, X.values) / Nk\n",
    "            for k in range(self.k):\n",
    "                diff = X.values - self.mu[k]\n",
    "                self.cov[k] = np.matmul((w[:, k] * diff.T), diff) / Nk[k]\n",
    "            \n",
    "            #breaking condition\n",
    "            if (np.all((abs(pi - self.pi) < t) == True) \n",
    "            and np.all((abs(mu - self.mu) < t) == True) \n",
    "            and np.all((abs(cov - self.cov) < t) == True)):\n",
    "                break\n",
    "            \n",
    "            #update params\n",
    "            pi = self.pi.copy()\n",
    "            mu = self.mu.copy()\n",
    "            cov = self.cov.copy()\n",
    "            \n",
    "    def predict(self, X):\n",
    "        #assign clusters to the data using the calculated params\n",
    "        w = []\n",
    "        for k in range(self.k):\n",
    "            w.append(gaussian.pdf(X, self.mu[k], self.cov[k]))\n",
    "        w = np.array(w)\n",
    "        return np.argmax(w, axis = 0)"
   ]
  },
  {
   "cell_type": "markdown",
   "id": "13d47067",
   "metadata": {},
   "source": [
    "# Training the model"
   ]
  },
  {
   "cell_type": "code",
   "execution_count": 9,
   "id": "a773acbb",
   "metadata": {},
   "outputs": [],
   "source": [
    "em = EM()\n",
    "em.fit(data, 5)"
   ]
  },
  {
   "cell_type": "markdown",
   "id": "3936bde9",
   "metadata": {},
   "source": [
    "# Assigning clusters"
   ]
  },
  {
   "cell_type": "code",
   "execution_count": 10,
   "id": "8f793e05",
   "metadata": {},
   "outputs": [
    {
     "data": {
      "text/plain": [
       "array([0, 0, 3, ..., 4, 4, 4], dtype=int64)"
      ]
     },
     "execution_count": 10,
     "metadata": {},
     "output_type": "execute_result"
    }
   ],
   "source": [
    "em.predict(data)"
   ]
  },
  {
   "cell_type": "markdown",
   "id": "0cf39e9a",
   "metadata": {},
   "source": [
    "# Plotting the log likelihood graph"
   ]
  },
  {
   "cell_type": "code",
   "execution_count": 11,
   "id": "8f9047be",
   "metadata": {},
   "outputs": [
    {
     "data": {
      "image/png": "[encoded data removed]",
      "text/plain": [
       "<Figure size 432x288 with 1 Axes>"
      ]
     },
     "metadata": {
      "needs_background": "light"
     },
     "output_type": "display_data"
    }
   ],
   "source": [
    "plt.title(\"Log Likelihood over epochs\")\n",
    "plt.plot(range(len(em.ll) - 1), em.ll[1:])\n",
    "plt.xlabel(\"Epochs\")\n",
    "plt.ylabel(\"Log Likelihood\")\n",
    "plt.show()"
   ]
  },
  {
   "cell_type": "code",
   "execution_count": null,
   "id": "c1eba643",
   "metadata": {},
   "outputs": [],
   "source": []
  }
 ],
 "metadata": {
  "kernelspec": {
   "display_name": "Python 3 (ipykernel)",
   "language": "python",
   "name": "python3"
  },
  "language_info": {
   "codemirror_mode": {
    "name": "ipython",
    "version": 3
   },
   "file_extension": ".py",
   "mimetype": "text/x-python",
   "name": "python",
   "nbconvert_exporter": "python",
   "pygments_lexer": "ipython3",
   "version": "3.9.7"
  }
 },
 "nbformat": 4,
 "nbformat_minor": 5
}
