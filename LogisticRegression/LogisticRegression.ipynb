{
 "cells": [
  {
   "cell_type": "markdown",
   "id": "dc67ef36",
   "metadata": {},
   "source": [
    "## Importing Libraries"
   ]
  },
  {
   "cell_type": "code",
   "execution_count": 1,
   "id": "2aade2e4",
   "metadata": {},
   "outputs": [],
   "source": [
    "import numpy as np\n",
    "import pandas as pd\n",
    "from sklearn.model_selection import train_test_split\n",
    "from sklearn.metrics import classification_report\n",
    "import matplotlib.pyplot as plt"
   ]
  },
  {
   "cell_type": "markdown",
   "id": "39e0a679",
   "metadata": {},
   "source": [
    "## Data Preprocessing"
   ]
  },
  {
   "cell_type": "code",
   "execution_count": 2,
   "id": "ca30f8d4",
   "metadata": {},
   "outputs": [],
   "source": [
    "data = pd.read_csv('breast-cancer-wisconsin.data', header = None)"
   ]
  },
  {
   "cell_type": "code",
   "execution_count": 3,
   "id": "db257967",
   "metadata": {},
   "outputs": [
    {
     "data": {
      "text/html": [
       "<div>\n",
       "<style scoped>\n",
       "    .dataframe tbody tr th:only-of-type {\n",
       "        vertical-align: middle;\n",
       "    }\n",
       "\n",
       "    .dataframe tbody tr th {\n",
       "        vertical-align: top;\n",
       "    }\n",
       "\n",
       "    .dataframe thead th {\n",
       "        text-align: right;\n",
       "    }\n",
       "</style>\n",
       "<table border=\"1\" class=\"dataframe\">\n",
       "  <thead>\n",
       "    <tr style=\"text-align: right;\">\n",
       "      <th></th>\n",
       "      <th>0</th>\n",
       "      <th>1</th>\n",
       "      <th>2</th>\n",
       "      <th>3</th>\n",
       "      <th>4</th>\n",
       "      <th>5</th>\n",
       "      <th>6</th>\n",
       "      <th>7</th>\n",
       "      <th>8</th>\n",
       "      <th>9</th>\n",
       "      <th>10</th>\n",
       "    </tr>\n",
       "  </thead>\n",
       "  <tbody>\n",
       "    <tr>\n",
       "      <th>0</th>\n",
       "      <td>1000025</td>\n",
       "      <td>5</td>\n",
       "      <td>1</td>\n",
       "      <td>1</td>\n",
       "      <td>1</td>\n",
       "      <td>2</td>\n",
       "      <td>1</td>\n",
       "      <td>3</td>\n",
       "      <td>1</td>\n",
       "      <td>1</td>\n",
       "      <td>2</td>\n",
       "    </tr>\n",
       "    <tr>\n",
       "      <th>1</th>\n",
       "      <td>1002945</td>\n",
       "      <td>5</td>\n",
       "      <td>4</td>\n",
       "      <td>4</td>\n",
       "      <td>5</td>\n",
       "      <td>7</td>\n",
       "      <td>10</td>\n",
       "      <td>3</td>\n",
       "      <td>2</td>\n",
       "      <td>1</td>\n",
       "      <td>2</td>\n",
       "    </tr>\n",
       "    <tr>\n",
       "      <th>2</th>\n",
       "      <td>1015425</td>\n",
       "      <td>3</td>\n",
       "      <td>1</td>\n",
       "      <td>1</td>\n",
       "      <td>1</td>\n",
       "      <td>2</td>\n",
       "      <td>2</td>\n",
       "      <td>3</td>\n",
       "      <td>1</td>\n",
       "      <td>1</td>\n",
       "      <td>2</td>\n",
       "    </tr>\n",
       "    <tr>\n",
       "      <th>3</th>\n",
       "      <td>1016277</td>\n",
       "      <td>6</td>\n",
       "      <td>8</td>\n",
       "      <td>8</td>\n",
       "      <td>1</td>\n",
       "      <td>3</td>\n",
       "      <td>4</td>\n",
       "      <td>3</td>\n",
       "      <td>7</td>\n",
       "      <td>1</td>\n",
       "      <td>2</td>\n",
       "    </tr>\n",
       "    <tr>\n",
       "      <th>4</th>\n",
       "      <td>1017023</td>\n",
       "      <td>4</td>\n",
       "      <td>1</td>\n",
       "      <td>1</td>\n",
       "      <td>3</td>\n",
       "      <td>2</td>\n",
       "      <td>1</td>\n",
       "      <td>3</td>\n",
       "      <td>1</td>\n",
       "      <td>1</td>\n",
       "      <td>2</td>\n",
       "    </tr>\n",
       "  </tbody>\n",
       "</table>\n",
       "</div>"
      ],
      "text/plain": [
       "        0   1   2   3   4   5   6   7   8   9   10\n",
       "0  1000025   5   1   1   1   2   1   3   1   1   2\n",
       "1  1002945   5   4   4   5   7  10   3   2   1   2\n",
       "2  1015425   3   1   1   1   2   2   3   1   1   2\n",
       "3  1016277   6   8   8   1   3   4   3   7   1   2\n",
       "4  1017023   4   1   1   3   2   1   3   1   1   2"
      ]
     },
     "execution_count": 3,
     "metadata": {},
     "output_type": "execute_result"
    }
   ],
   "source": [
    "data.head()"
   ]
  },
  {
   "cell_type": "code",
   "execution_count": 4,
   "id": "4eba51ef",
   "metadata": {},
   "outputs": [],
   "source": [
    "#filtering out non-numerical columns\n",
    "catCols = []\n",
    "for col in data.columns:\n",
    "    if data[col].dtype == 'object':\n",
    "        catCols.append(col)"
   ]
  },
  {
   "cell_type": "code",
   "execution_count": 5,
   "id": "4257d477",
   "metadata": {},
   "outputs": [
    {
     "name": "stdout",
     "output_type": "stream",
     "text": [
      "Shape before removing invalid data (699, 11)\n",
      "Shape after removing invalid data (683, 11)\n"
     ]
    }
   ],
   "source": [
    "#dumping rows with invalid feature values\n",
    "print(\"Shape before removing invalid data \" + str(data.shape))\n",
    "for col in catCols:\n",
    "    idx = data[data[col] == \"?\"].index\n",
    "    data.drop(idx, inplace = True)\n",
    "print(\"Shape after removing invalid data \" + str(data.shape))"
   ]
  },
  {
   "cell_type": "code",
   "execution_count": 6,
   "id": "dca7ac4d",
   "metadata": {},
   "outputs": [],
   "source": [
    "#converting categorical columns into numericals cols\n",
    "for col in catCols:\n",
    "    data[col] = data[col].astype('float64')"
   ]
  },
  {
   "cell_type": "code",
   "execution_count": 7,
   "id": "99ad8645",
   "metadata": {},
   "outputs": [],
   "source": [
    "#dumping the 0 column as it is just the ID of the patient\n",
    "data.drop(0, axis = 1, inplace = True)"
   ]
  },
  {
   "cell_type": "code",
   "execution_count": 8,
   "id": "28fac584",
   "metadata": {},
   "outputs": [
    {
     "data": {
      "text/html": [
       "<div>\n",
       "<style scoped>\n",
       "    .dataframe tbody tr th:only-of-type {\n",
       "        vertical-align: middle;\n",
       "    }\n",
       "\n",
       "    .dataframe tbody tr th {\n",
       "        vertical-align: top;\n",
       "    }\n",
       "\n",
       "    .dataframe thead th {\n",
       "        text-align: right;\n",
       "    }\n",
       "</style>\n",
       "<table border=\"1\" class=\"dataframe\">\n",
       "  <thead>\n",
       "    <tr style=\"text-align: right;\">\n",
       "      <th></th>\n",
       "      <th>1</th>\n",
       "      <th>2</th>\n",
       "      <th>3</th>\n",
       "      <th>4</th>\n",
       "      <th>5</th>\n",
       "      <th>6</th>\n",
       "      <th>7</th>\n",
       "      <th>8</th>\n",
       "      <th>9</th>\n",
       "      <th>10</th>\n",
       "    </tr>\n",
       "  </thead>\n",
       "  <tbody>\n",
       "    <tr>\n",
       "      <th>0</th>\n",
       "      <td>5</td>\n",
       "      <td>1</td>\n",
       "      <td>1</td>\n",
       "      <td>1</td>\n",
       "      <td>2</td>\n",
       "      <td>1.0</td>\n",
       "      <td>3</td>\n",
       "      <td>1</td>\n",
       "      <td>1</td>\n",
       "      <td>2</td>\n",
       "    </tr>\n",
       "    <tr>\n",
       "      <th>1</th>\n",
       "      <td>5</td>\n",
       "      <td>4</td>\n",
       "      <td>4</td>\n",
       "      <td>5</td>\n",
       "      <td>7</td>\n",
       "      <td>10.0</td>\n",
       "      <td>3</td>\n",
       "      <td>2</td>\n",
       "      <td>1</td>\n",
       "      <td>2</td>\n",
       "    </tr>\n",
       "    <tr>\n",
       "      <th>2</th>\n",
       "      <td>3</td>\n",
       "      <td>1</td>\n",
       "      <td>1</td>\n",
       "      <td>1</td>\n",
       "      <td>2</td>\n",
       "      <td>2.0</td>\n",
       "      <td>3</td>\n",
       "      <td>1</td>\n",
       "      <td>1</td>\n",
       "      <td>2</td>\n",
       "    </tr>\n",
       "    <tr>\n",
       "      <th>3</th>\n",
       "      <td>6</td>\n",
       "      <td>8</td>\n",
       "      <td>8</td>\n",
       "      <td>1</td>\n",
       "      <td>3</td>\n",
       "      <td>4.0</td>\n",
       "      <td>3</td>\n",
       "      <td>7</td>\n",
       "      <td>1</td>\n",
       "      <td>2</td>\n",
       "    </tr>\n",
       "    <tr>\n",
       "      <th>4</th>\n",
       "      <td>4</td>\n",
       "      <td>1</td>\n",
       "      <td>1</td>\n",
       "      <td>3</td>\n",
       "      <td>2</td>\n",
       "      <td>1.0</td>\n",
       "      <td>3</td>\n",
       "      <td>1</td>\n",
       "      <td>1</td>\n",
       "      <td>2</td>\n",
       "    </tr>\n",
       "  </tbody>\n",
       "</table>\n",
       "</div>"
      ],
      "text/plain": [
       "   1   2   3   4   5     6   7   8   9   10\n",
       "0   5   1   1   1   2   1.0   3   1   1   2\n",
       "1   5   4   4   5   7  10.0   3   2   1   2\n",
       "2   3   1   1   1   2   2.0   3   1   1   2\n",
       "3   6   8   8   1   3   4.0   3   7   1   2\n",
       "4   4   1   1   3   2   1.0   3   1   1   2"
      ]
     },
     "execution_count": 8,
     "metadata": {},
     "output_type": "execute_result"
    }
   ],
   "source": [
    "data.head()"
   ]
  },
  {
   "cell_type": "code",
   "execution_count": 9,
   "id": "2f528d51",
   "metadata": {},
   "outputs": [],
   "source": [
    "#splitting the data into features and labels\n",
    "X = data.drop(10, axis = 1)\n",
    "y = data[10]"
   ]
  },
  {
   "cell_type": "code",
   "execution_count": 10,
   "id": "d26d0291",
   "metadata": {},
   "outputs": [],
   "source": [
    "#converting labels into +1 for malignant and 0 for benign\n",
    "y = np.where(y == 4, 1, 0)"
   ]
  },
  {
   "cell_type": "code",
   "execution_count": 11,
   "id": "a2a70afd",
   "metadata": {},
   "outputs": [],
   "source": [
    "#Splitting the data into training and testing sets\n",
    "X_train, X_val, y_train, y_val = train_test_split(X, y, test_size = 0.2, random_state = 42)"
   ]
  },
  {
   "cell_type": "code",
   "execution_count": 12,
   "id": "d256c464",
   "metadata": {},
   "outputs": [],
   "source": [
    "#Normalizing the dataset\n",
    "mu = X_train.mean(axis = 0)\n",
    "std = X_train.std(axis = 0)\n",
    "X_train = (X_train - mu) / std\n",
    "X_val = (X_val - mu) / std"
   ]
  },
  {
   "cell_type": "code",
   "execution_count": 13,
   "id": "10dbd5ba",
   "metadata": {},
   "outputs": [],
   "source": [
    "#Concatenating ones for the training and testing set\n",
    "X_train = np.concatenate((X_train, np.ones((X_train.shape[0],1))), axis = 1)\n",
    "X_val = np.concatenate((X_val, np.ones((X_val.shape[0], 1))), axis = 1)"
   ]
  },
  {
   "cell_type": "markdown",
   "id": "c5de0407",
   "metadata": {},
   "source": [
    "## Modelling"
   ]
  },
  {
   "cell_type": "code",
   "execution_count": 14,
   "id": "fecf7b69",
   "metadata": {},
   "outputs": [],
   "source": [
    "#Created a model using OOP\n",
    "class LogisticRegression():\n",
    "    #Initialization\n",
    "    def __init__(self):\n",
    "        #Initialize all the required params to None\n",
    "        self.w = None #weights\n",
    "        self.lr = None #learning rate\n",
    "        self.optimizer = None #optimizer(sgd and mbgd)\n",
    "        self.batchSize = None #batch size\n",
    "        self.pred = None #predictions\n",
    "        self.rn = None #random state for reproducable results\n",
    "        self.loss = None #loss at every ecoph\n",
    "        \n",
    "    #Fitting the model \n",
    "    def fit(self, X_train, y_train, lr, optimizer, batchSize = 1, epochs = 100, random_state = 42):\n",
    "        self.loss = [] #create an empty list to store loss at every epoch\n",
    "        self.rn = np.random.RandomState(random_state) #set random state\n",
    "        self.w = self.rn.rand(X_train.shape[1]) #initialize w randomly\n",
    "        self.lr = lr #set learning rate\n",
    "        self.optimizer = optimizer #set optimizer\n",
    "        if self.optimizer == \"sgd\":\n",
    "            self.batchSize = 1 #minibatch with batch size = 1 is same as sgd\n",
    "        elif self.optimizer == \"mbgd\":\n",
    "            if batchSize > X_train.shape[0]:\n",
    "                raise Exception(\"Error: Batch Size can not be more than training set\") #Error Handling\n",
    "            self.batchSize = batchSize #set batch size\n",
    "        elif self.optimizer != \"sgd\" and self.optimizer != \"mbgd\":\n",
    "            raise Exception(\"Error: Invalid Optimizer\") #Error handling\n",
    "        self.epochs = epochs #set epochs\n",
    "        self.__minibatch__(X_train, y_train) #start training\n",
    "    \n",
    "    #Minibatch Gradient Descent implementation\n",
    "    def __minibatch__(self, X_train, y_train):\n",
    "        for _ in range(self.epochs):\n",
    "            batches = int(X_train.shape[0] / self.batchSize) #calculate the number of batches\n",
    "            batchNo = self.rn.randint(batches) #randomly selcet a batch\n",
    "            XBatch = X_train[batchNo * self.batchSize : (batchNo + 1) * self.batchSize] #select features from that batch\n",
    "            yBatch = y_train[batchNo * self.batchSize : (batchNo + 1) * self.batchSize] #select labels from that batch\n",
    "            g = self.__gradient__(XBatch, yBatch) #calculate gradient for the given batch\n",
    "            self.__loss__(XBatch, yBatch) #calculate loss for the given batch\n",
    "            self.w -= (self.lr * g) #update weights\n",
    "    \n",
    "    #Gradient implementation\n",
    "    def __gradient__(self, XBatch, yBatch):\n",
    "        logit = self.__logit__(XBatch) #get logit of the features i.e, f(x)\n",
    "        return np.dot((logit - yBatch).T, XBatch) #return the gradient\n",
    "    \n",
    "    #Logit implementation\n",
    "    def __logit__(self, XBatch):\n",
    "        exp = np.dot(XBatch, self.w)\n",
    "        e = np.exp(-exp)\n",
    "        return 1 / (1 + e)\n",
    "    \n",
    "    #Loss Function\n",
    "    def __loss__(self, XBatch, yBatch):\n",
    "        logit = self.__logit__(XBatch) #get logit of the features i.e, f(x)\n",
    "        loss = np.dot(yBatch, np.log(logit)) + np.dot((1 - yBatch), np.log(1 - logit)) #calculate loss\n",
    "        self.loss.append(-loss) #append loss to the self.loss array\n",
    "    \n",
    "    #Return Weights\n",
    "    def getWeights(self):\n",
    "        return self.w\n",
    "    \n",
    "    #Prediction\n",
    "    def predict(self, X_val):\n",
    "        self.pred = np.dot(X_val, self.w)\n",
    "        self.pred = np.where(self.pred >= 0, 1, 0)\n",
    "        return self.pred\n",
    "    \n",
    "    #Plotting the grpah to see how well our model is doing\n",
    "    def plot(self):\n",
    "        plt.plot(range(self.epochs), self.loss)\n",
    "        if self.optimizer == 'sgd':\n",
    "            plt.title(\"Stochastic Gradient Descent\")\n",
    "        else:\n",
    "            plt.title(\"Minibatch Gradient Descent\")\n",
    "        plt.xlabel(\"Epochs\")\n",
    "        plt.ylabel(\"Loss\")"
   ]
  },
  {
   "cell_type": "markdown",
   "id": "e80e032b",
   "metadata": {},
   "source": [
    "## Working"
   ]
  },
  {
   "cell_type": "code",
   "execution_count": 15,
   "id": "0f4e1026",
   "metadata": {},
   "outputs": [],
   "source": [
    "lr = LogisticRegression()"
   ]
  },
  {
   "cell_type": "code",
   "execution_count": 16,
   "id": "4fc31231",
   "metadata": {},
   "outputs": [],
   "source": [
    "lr.fit(X_train, y_train, 0.001, \"sgd\", 100)"
   ]
  },
  {
   "cell_type": "code",
   "execution_count": 17,
   "id": "2b01a17d",
   "metadata": {},
   "outputs": [
    {
     "data": {
      "image/png": "[encoded data removed]",
      "text/plain": [
       "<Figure size 432x288 with 1 Axes>"
      ]
     },
     "metadata": {
      "needs_background": "light"
     },
     "output_type": "display_data"
    }
   ],
   "source": [
    "lr.plot()"
   ]
  },
  {
   "cell_type": "code",
   "execution_count": 18,
   "id": "ad84f923",
   "metadata": {},
   "outputs": [
    {
     "data": {
      "text/plain": [
       "array([0.37750204, 0.95547114, 0.73649654, 0.60229693, 0.16052998,\n",
       "       0.16168686, 0.06398766, 0.87223365, 0.60507308, 0.69634322])"
      ]
     },
     "execution_count": 18,
     "metadata": {},
     "output_type": "execute_result"
    }
   ],
   "source": [
    "lr.getWeights()"
   ]
  },
  {
   "cell_type": "code",
   "execution_count": 19,
   "id": "78365b54",
   "metadata": {},
   "outputs": [
    {
     "data": {
      "text/plain": [
       "array([1, 1, 0, 0, 0, 0, 0, 1, 1, 0, 0, 0, 0, 0, 1, 1, 0, 1, 0, 1, 1, 0,\n",
       "       1, 0, 0, 0, 1, 1, 0, 1, 0, 1, 1, 1, 0, 0, 1, 0, 1, 1, 0, 1, 1, 0,\n",
       "       0, 1, 0, 1, 0, 1, 0, 0, 0, 1, 0, 1, 1, 0, 0, 1, 0, 0, 0, 1, 0, 0,\n",
       "       1, 0, 0, 0, 1, 0, 0, 0, 1, 1, 0, 0, 1, 1, 1, 1, 0, 1, 0, 1, 0, 0,\n",
       "       1, 0, 0, 1, 0, 1, 0, 0, 1, 1, 0, 0, 0, 1, 1, 0, 1, 1, 0, 0, 1, 0,\n",
       "       1, 1, 1, 0, 0, 0, 1, 0, 0, 0, 0, 1, 0, 0, 0, 0, 1, 0, 1, 0, 0, 0,\n",
       "       1, 1, 1, 0, 0])"
      ]
     },
     "execution_count": 19,
     "metadata": {},
     "output_type": "execute_result"
    }
   ],
   "source": [
    "pred = lr.predict(X_val)\n",
    "pred"
   ]
  },
  {
   "cell_type": "markdown",
   "id": "e0af3440",
   "metadata": {},
   "source": [
    "## Checking the accuracy of the model"
   ]
  },
  {
   "cell_type": "code",
   "execution_count": 20,
   "id": "2118fea7",
   "metadata": {},
   "outputs": [
    {
     "name": "stdout",
     "output_type": "stream",
     "text": [
      "              precision    recall  f1-score   support\n",
      "\n",
      "           0       0.97      0.96      0.97        79\n",
      "           1       0.95      0.97      0.96        58\n",
      "\n",
      "    accuracy                           0.96       137\n",
      "   macro avg       0.96      0.96      0.96       137\n",
      "weighted avg       0.96      0.96      0.96       137\n",
      "\n"
     ]
    }
   ],
   "source": [
    "print(classification_report(y_val, pred))"
   ]
  },
  {
   "cell_type": "markdown",
   "id": "cdb5655f",
   "metadata": {},
   "source": [
    "## Hyperparameter tuning"
   ]
  },
  {
   "cell_type": "code",
   "execution_count": 21,
   "id": "9279e10e",
   "metadata": {},
   "outputs": [],
   "source": [
    "#KCV helper function\n",
    "def kcvHelper(X_train, y_train, X_val, y_val, lr, opt, batchSize, epochs, random_state):\n",
    "    op = None\n",
    "    if opt == \"sgd\": #optimize for sgd\n",
    "        for l in lr:\n",
    "            model = LogisticRegression()\n",
    "            model.fit(X_train, y_train, l, opt, 1, epochs, random_state)\n",
    "            pred = model.predict(X_val)\n",
    "            report = classification_report(y_val, pred, output_dict = True)\n",
    "            op = {\n",
    "                \"Precision\" : report['1']['precision'],\n",
    "                \"Optimizer\" : opt,\n",
    "                \"Learning Rate\" : l,\n",
    "                \"Batch Size\" : 1,\n",
    "                \"Epochs\" : epochs,\n",
    "                \"Random State\" : random_state\n",
    "            }\n",
    "    elif opt == \"mbgd\": #optimize for mbgd\n",
    "        for b in batchSize:\n",
    "            for l in lr:\n",
    "                model = LogisticRegression()\n",
    "                model.fit(X_train, y_train, l, opt, b, epochs, random_state)\n",
    "                pred = model.predict(X_val)\n",
    "                report = classification_report(y_val, pred, output_dict = True)\n",
    "                op = {\n",
    "                    \"Precision\" : report['1']['precision'],\n",
    "                    \"Optimizer\" : opt,\n",
    "                    \"Learning Rate\" : l,\n",
    "                    \"Batch Size\" : b,\n",
    "                    \"Epochs\" : epochs,\n",
    "                    \"Random State\" : random_state\n",
    "                }\n",
    "    return op\n",
    "\n",
    "#Implemented KCV with focus on precision of malignant tumors\n",
    "def kcv(k, X, y, lr, optimizer, batchSize, epochs = 100, random_state = 42):\n",
    "    dataSize = int(len(X) / k)\n",
    "    precision = 0\n",
    "    finalOP = {}\n",
    "    for i in range(k):\n",
    "        X_val = X[i * dataSize:(i+1) * dataSize]\n",
    "        y_val = y[i * dataSize:(i+1) * dataSize]\n",
    "        X_train = np.concatenate((X[:i * dataSize], X[(i+1) * dataSize:]), axis = 0)\n",
    "        y_train = np.concatenate((y[:i * dataSize], y[(i+1) * dataSize:]), axis = 0)\n",
    "        for opt in optimizer:\n",
    "            op = kcvHelper(X_train, y_train, X_val, y_val, lr, opt, batchSize, epochs, random_state)\n",
    "            if op['Precision'] > precision:\n",
    "                precision = op['Precision']\n",
    "                finalOP = op\n",
    "    return finalOP"
   ]
  },
  {
   "cell_type": "code",
   "execution_count": 22,
   "id": "cc5844b3",
   "metadata": {},
   "outputs": [],
   "source": [
    "#initializing params for KCV\n",
    "k = 5\n",
    "lr = [0.0001, 0.001, 0.01]\n",
    "optimizer = ['sgd', 'mbgd']\n",
    "batchSize = [50, 100, 200, 300, 400]\n",
    "epochs = 100\n",
    "random_state = 42"
   ]
  },
  {
   "cell_type": "code",
   "execution_count": 23,
   "id": "6f962d17",
   "metadata": {},
   "outputs": [],
   "source": [
    "optimalOP = kcv(5, X_train, y_train, lr, optimizer, batchSize, epochs, random_state)"
   ]
  },
  {
   "cell_type": "code",
   "execution_count": 24,
   "id": "81afb9cc",
   "metadata": {},
   "outputs": [
    {
     "data": {
      "text/plain": [
       "{'Precision': 0.9722222222222222,\n",
       " 'Optimizer': 'mbgd',\n",
       " 'Learning Rate': 0.01,\n",
       " 'Batch Size': 400,\n",
       " 'Epochs': 100,\n",
       " 'Random State': 42}"
      ]
     },
     "execution_count": 24,
     "metadata": {},
     "output_type": "execute_result"
    }
   ],
   "source": [
    "optimalOP"
   ]
  },
  {
   "cell_type": "code",
   "execution_count": 25,
   "id": "8ea7b9b4",
   "metadata": {},
   "outputs": [],
   "source": [
    "#Using optimal params to construct a model\n",
    "optimalModel = LogisticRegression()\n",
    "optimalModel.fit(X_train, y_train, optimalOP['Learning Rate'], optimalOP['Optimizer'], \n",
    "                 optimalOP['Batch Size'], optimalOP['Epochs'], optimalOP['Random State'])"
   ]
  },
  {
   "cell_type": "code",
   "execution_count": 26,
   "id": "cd33a00c",
   "metadata": {},
   "outputs": [],
   "source": [
    "pred = optimalModel.predict(X_val)"
   ]
  },
  {
   "cell_type": "code",
   "execution_count": 27,
   "id": "9e9f21c2",
   "metadata": {},
   "outputs": [
    {
     "name": "stdout",
     "output_type": "stream",
     "text": [
      "              precision    recall  f1-score   support\n",
      "\n",
      "           0       0.94      0.99      0.96        79\n",
      "           1       0.98      0.91      0.95        58\n",
      "\n",
      "    accuracy                           0.96       137\n",
      "   macro avg       0.96      0.95      0.95       137\n",
      "weighted avg       0.96      0.96      0.96       137\n",
      "\n"
     ]
    }
   ],
   "source": [
    "print(classification_report(y_val, pred))"
   ]
  },
  {
   "cell_type": "code",
   "execution_count": 28,
   "id": "26e03a4f",
   "metadata": {},
   "outputs": [
    {
     "data": {
      "image/png": "[encoded data removed]",
      "text/plain": [
       "<Figure size 432x288 with 1 Axes>"
      ]
     },
     "metadata": {
      "needs_background": "light"
     },
     "output_type": "display_data"
    }
   ],
   "source": [
    "optimalModel.plot()"
   ]
  },
  {
   "cell_type": "code",
   "execution_count": null,
   "id": "206fd909",
   "metadata": {},
   "outputs": [],
   "source": []
  }
 ],
 "metadata": {
  "kernelspec": {
   "display_name": "Python 3 (ipykernel)",
   "language": "python",
   "name": "python3"
  },
  "language_info": {
   "codemirror_mode": {
    "name": "ipython",
    "version": 3
   },
   "file_extension": ".py",
   "mimetype": "text/x-python",
   "name": "python",
   "nbconvert_exporter": "python",
   "pygments_lexer": "ipython3",
   "version": "3.9.7"
  }
 },
 "nbformat": 4,
 "nbformat_minor": 5
}
