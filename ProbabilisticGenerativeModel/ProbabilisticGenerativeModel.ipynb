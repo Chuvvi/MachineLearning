{
 "cells": [
  {
   "cell_type": "markdown",
   "id": "dc67ef36",
   "metadata": {},
   "source": [
    "## Importing Libraries"
   ]
  },
  {
   "cell_type": "code",
   "execution_count": 1,
   "id": "2aade2e4",
   "metadata": {},
   "outputs": [],
   "source": [
    "import numpy as np\n",
    "import pandas as pd\n",
    "from sklearn.model_selection import train_test_split\n",
    "from sklearn.metrics import classification_report\n",
    "import matplotlib.pyplot as plt"
   ]
  },
  {
   "cell_type": "markdown",
   "id": "39e0a679",
   "metadata": {},
   "source": [
    "## Data Preprocessing"
   ]
  },
  {
   "cell_type": "code",
   "execution_count": 2,
   "id": "ca30f8d4",
   "metadata": {},
   "outputs": [],
   "source": [
    "data = pd.read_csv('breast-cancer-wisconsin.data', header = None)"
   ]
  },
  {
   "cell_type": "code",
   "execution_count": 3,
   "id": "db257967",
   "metadata": {},
   "outputs": [
    {
     "data": {
      "text/html": [
       "<div>\n",
       "<style scoped>\n",
       "    .dataframe tbody tr th:only-of-type {\n",
       "        vertical-align: middle;\n",
       "    }\n",
       "\n",
       "    .dataframe tbody tr th {\n",
       "        vertical-align: top;\n",
       "    }\n",
       "\n",
       "    .dataframe thead th {\n",
       "        text-align: right;\n",
       "    }\n",
       "</style>\n",
       "<table border=\"1\" class=\"dataframe\">\n",
       "  <thead>\n",
       "    <tr style=\"text-align: right;\">\n",
       "      <th></th>\n",
       "      <th>0</th>\n",
       "      <th>1</th>\n",
       "      <th>2</th>\n",
       "      <th>3</th>\n",
       "      <th>4</th>\n",
       "      <th>5</th>\n",
       "      <th>6</th>\n",
       "      <th>7</th>\n",
       "      <th>8</th>\n",
       "      <th>9</th>\n",
       "      <th>10</th>\n",
       "    </tr>\n",
       "  </thead>\n",
       "  <tbody>\n",
       "    <tr>\n",
       "      <th>0</th>\n",
       "      <td>1000025</td>\n",
       "      <td>5</td>\n",
       "      <td>1</td>\n",
       "      <td>1</td>\n",
       "      <td>1</td>\n",
       "      <td>2</td>\n",
       "      <td>1</td>\n",
       "      <td>3</td>\n",
       "      <td>1</td>\n",
       "      <td>1</td>\n",
       "      <td>2</td>\n",
       "    </tr>\n",
       "    <tr>\n",
       "      <th>1</th>\n",
       "      <td>1002945</td>\n",
       "      <td>5</td>\n",
       "      <td>4</td>\n",
       "      <td>4</td>\n",
       "      <td>5</td>\n",
       "      <td>7</td>\n",
       "      <td>10</td>\n",
       "      <td>3</td>\n",
       "      <td>2</td>\n",
       "      <td>1</td>\n",
       "      <td>2</td>\n",
       "    </tr>\n",
       "    <tr>\n",
       "      <th>2</th>\n",
       "      <td>1015425</td>\n",
       "      <td>3</td>\n",
       "      <td>1</td>\n",
       "      <td>1</td>\n",
       "      <td>1</td>\n",
       "      <td>2</td>\n",
       "      <td>2</td>\n",
       "      <td>3</td>\n",
       "      <td>1</td>\n",
       "      <td>1</td>\n",
       "      <td>2</td>\n",
       "    </tr>\n",
       "    <tr>\n",
       "      <th>3</th>\n",
       "      <td>1016277</td>\n",
       "      <td>6</td>\n",
       "      <td>8</td>\n",
       "      <td>8</td>\n",
       "      <td>1</td>\n",
       "      <td>3</td>\n",
       "      <td>4</td>\n",
       "      <td>3</td>\n",
       "      <td>7</td>\n",
       "      <td>1</td>\n",
       "      <td>2</td>\n",
       "    </tr>\n",
       "    <tr>\n",
       "      <th>4</th>\n",
       "      <td>1017023</td>\n",
       "      <td>4</td>\n",
       "      <td>1</td>\n",
       "      <td>1</td>\n",
       "      <td>3</td>\n",
       "      <td>2</td>\n",
       "      <td>1</td>\n",
       "      <td>3</td>\n",
       "      <td>1</td>\n",
       "      <td>1</td>\n",
       "      <td>2</td>\n",
       "    </tr>\n",
       "  </tbody>\n",
       "</table>\n",
       "</div>"
      ],
      "text/plain": [
       "        0   1   2   3   4   5   6   7   8   9   10\n",
       "0  1000025   5   1   1   1   2   1   3   1   1   2\n",
       "1  1002945   5   4   4   5   7  10   3   2   1   2\n",
       "2  1015425   3   1   1   1   2   2   3   1   1   2\n",
       "3  1016277   6   8   8   1   3   4   3   7   1   2\n",
       "4  1017023   4   1   1   3   2   1   3   1   1   2"
      ]
     },
     "execution_count": 3,
     "metadata": {},
     "output_type": "execute_result"
    }
   ],
   "source": [
    "data.head()"
   ]
  },
  {
   "cell_type": "code",
   "execution_count": 4,
   "id": "4eba51ef",
   "metadata": {},
   "outputs": [],
   "source": [
    "#filtering out non-numerical columns\n",
    "catCols = []\n",
    "for col in data.columns:\n",
    "    if data[col].dtype == 'object':\n",
    "        catCols.append(col)"
   ]
  },
  {
   "cell_type": "code",
   "execution_count": 5,
   "id": "4257d477",
   "metadata": {},
   "outputs": [
    {
     "name": "stdout",
     "output_type": "stream",
     "text": [
      "Shape before removing invalid data (699, 11)\n",
      "Shape after removing invalid data (683, 11)\n"
     ]
    }
   ],
   "source": [
    "#dumping rows with invalid feature values\n",
    "print(\"Shape before removing invalid data \" + str(data.shape))\n",
    "for col in catCols:\n",
    "    idx = data[data[col] == \"?\"].index\n",
    "    data.drop(idx, inplace = True)\n",
    "print(\"Shape after removing invalid data \" + str(data.shape))"
   ]
  },
  {
   "cell_type": "code",
   "execution_count": 6,
   "id": "dca7ac4d",
   "metadata": {},
   "outputs": [],
   "source": [
    "#converting categorical columns into numericals cols\n",
    "for col in catCols:\n",
    "    data[col] = data[col].astype('float64')"
   ]
  },
  {
   "cell_type": "code",
   "execution_count": 7,
   "id": "99ad8645",
   "metadata": {},
   "outputs": [],
   "source": [
    "#dumping the 0 column as it is just the ID of the patient\n",
    "data.drop(0, axis = 1, inplace = True)"
   ]
  },
  {
   "cell_type": "code",
   "execution_count": 8,
   "id": "28fac584",
   "metadata": {},
   "outputs": [
    {
     "data": {
      "text/html": [
       "<div>\n",
       "<style scoped>\n",
       "    .dataframe tbody tr th:only-of-type {\n",
       "        vertical-align: middle;\n",
       "    }\n",
       "\n",
       "    .dataframe tbody tr th {\n",
       "        vertical-align: top;\n",
       "    }\n",
       "\n",
       "    .dataframe thead th {\n",
       "        text-align: right;\n",
       "    }\n",
       "</style>\n",
       "<table border=\"1\" class=\"dataframe\">\n",
       "  <thead>\n",
       "    <tr style=\"text-align: right;\">\n",
       "      <th></th>\n",
       "      <th>1</th>\n",
       "      <th>2</th>\n",
       "      <th>3</th>\n",
       "      <th>4</th>\n",
       "      <th>5</th>\n",
       "      <th>6</th>\n",
       "      <th>7</th>\n",
       "      <th>8</th>\n",
       "      <th>9</th>\n",
       "      <th>10</th>\n",
       "    </tr>\n",
       "  </thead>\n",
       "  <tbody>\n",
       "    <tr>\n",
       "      <th>0</th>\n",
       "      <td>5</td>\n",
       "      <td>1</td>\n",
       "      <td>1</td>\n",
       "      <td>1</td>\n",
       "      <td>2</td>\n",
       "      <td>1.0</td>\n",
       "      <td>3</td>\n",
       "      <td>1</td>\n",
       "      <td>1</td>\n",
       "      <td>2</td>\n",
       "    </tr>\n",
       "    <tr>\n",
       "      <th>1</th>\n",
       "      <td>5</td>\n",
       "      <td>4</td>\n",
       "      <td>4</td>\n",
       "      <td>5</td>\n",
       "      <td>7</td>\n",
       "      <td>10.0</td>\n",
       "      <td>3</td>\n",
       "      <td>2</td>\n",
       "      <td>1</td>\n",
       "      <td>2</td>\n",
       "    </tr>\n",
       "    <tr>\n",
       "      <th>2</th>\n",
       "      <td>3</td>\n",
       "      <td>1</td>\n",
       "      <td>1</td>\n",
       "      <td>1</td>\n",
       "      <td>2</td>\n",
       "      <td>2.0</td>\n",
       "      <td>3</td>\n",
       "      <td>1</td>\n",
       "      <td>1</td>\n",
       "      <td>2</td>\n",
       "    </tr>\n",
       "    <tr>\n",
       "      <th>3</th>\n",
       "      <td>6</td>\n",
       "      <td>8</td>\n",
       "      <td>8</td>\n",
       "      <td>1</td>\n",
       "      <td>3</td>\n",
       "      <td>4.0</td>\n",
       "      <td>3</td>\n",
       "      <td>7</td>\n",
       "      <td>1</td>\n",
       "      <td>2</td>\n",
       "    </tr>\n",
       "    <tr>\n",
       "      <th>4</th>\n",
       "      <td>4</td>\n",
       "      <td>1</td>\n",
       "      <td>1</td>\n",
       "      <td>3</td>\n",
       "      <td>2</td>\n",
       "      <td>1.0</td>\n",
       "      <td>3</td>\n",
       "      <td>1</td>\n",
       "      <td>1</td>\n",
       "      <td>2</td>\n",
       "    </tr>\n",
       "  </tbody>\n",
       "</table>\n",
       "</div>"
      ],
      "text/plain": [
       "   1   2   3   4   5     6   7   8   9   10\n",
       "0   5   1   1   1   2   1.0   3   1   1   2\n",
       "1   5   4   4   5   7  10.0   3   2   1   2\n",
       "2   3   1   1   1   2   2.0   3   1   1   2\n",
       "3   6   8   8   1   3   4.0   3   7   1   2\n",
       "4   4   1   1   3   2   1.0   3   1   1   2"
      ]
     },
     "execution_count": 8,
     "metadata": {},
     "output_type": "execute_result"
    }
   ],
   "source": [
    "data.head()"
   ]
  },
  {
   "cell_type": "code",
   "execution_count": 9,
   "id": "2f528d51",
   "metadata": {},
   "outputs": [],
   "source": [
    "#splitting the data into features and labels\n",
    "X = data.drop(10, axis = 1)\n",
    "y = data[10]"
   ]
  },
  {
   "cell_type": "code",
   "execution_count": 10,
   "id": "d26d0291",
   "metadata": {},
   "outputs": [],
   "source": [
    "#converting labels into +1 for malignant and 0 for benign\n",
    "y = np.where(y == 4, 1, 0)"
   ]
  },
  {
   "cell_type": "code",
   "execution_count": 11,
   "id": "a2a70afd",
   "metadata": {},
   "outputs": [],
   "source": [
    "#Splitting the data into training and testing sets\n",
    "X_train, X_val, y_train, y_val = train_test_split(X, y, test_size = 0.2, random_state = 42)"
   ]
  },
  {
   "cell_type": "code",
   "execution_count": 12,
   "id": "d256c464",
   "metadata": {},
   "outputs": [],
   "source": [
    "#Normalizing the dataset\n",
    "mu = X_train.mean(axis = 0)\n",
    "std = X_train.std(axis = 0)\n",
    "X_train = (X_train - mu) / std\n",
    "X_val = (X_val - mu) / std"
   ]
  },
  {
   "cell_type": "code",
   "execution_count": 13,
   "id": "6dcebcd6",
   "metadata": {},
   "outputs": [],
   "source": [
    "#Converting the dataset into numpy arrays\n",
    "X_train = X_train.to_numpy()\n",
    "X_val = X_val.to_numpy()"
   ]
  },
  {
   "cell_type": "markdown",
   "id": "90ae5787",
   "metadata": {},
   "source": [
    "## Modelling"
   ]
  },
  {
   "cell_type": "code",
   "execution_count": 14,
   "id": "f438d7f7",
   "metadata": {},
   "outputs": [],
   "source": [
    "#Created a model using OOP\n",
    "class PGM():\n",
    "    #Initialization\n",
    "    def __init__(self):\n",
    "        #Initialize all the required params to None\n",
    "        self.w = None\n",
    "        self.w0 = None\n",
    "        self.cov = None\n",
    "        self.s1 = None\n",
    "        self.s2 = None\n",
    "        self.mu1 = None\n",
    "        self.mu2 = None\n",
    "        self.gamma1 = None\n",
    "        self.gamma2 = None\n",
    "        self.n = None\n",
    "        self.n1 = None\n",
    "        self.n2 = None\n",
    "        self.x1 = None\n",
    "        self.x2 = None\n",
    "        self.pred = None\n",
    "    \n",
    "    #Fitting the model \n",
    "    def fit(self, X_train, y_train):\n",
    "        self.n = X_train.shape[0] #get number of examples\n",
    "        self.n1 = np.count_nonzero(y_train == 1) #get number of c1 examples\n",
    "        self.n2 = np.count_nonzero(y_train == 0) #get number of c1 examples\n",
    "        self.gamma1 = self.n1 / self.n #get gamma1(prob of C1)\n",
    "        self.gamma2 = self.n2 / self.n #get gamma2(prob of C2)\n",
    "        self.x1 = X_train[np.where(y_train == 1)] #get all c1 examples\n",
    "        self.x2 = X_train[np.where(y_train == 0)] #get all c1 examples\n",
    "        self.mu1 = self.x1.sum(axis = 0) / self.n1 #get mean vector of class1\n",
    "        self.mu2 = self.x2.sum(axis = 0) / self.n2 #get mean vector of class2\n",
    "        self.s1 = np.dot((self.x1 - self.mu1).T, (self.x1 - self.mu1)) #get s1\n",
    "        self.s2 = np.dot((self.x2 - self.mu2).T, (self.x2 - self.mu2)) #get s2\n",
    "        self.cov = (self.s1 + self.s2) / self.n #calculate covariance matrix using s1 and s2\n",
    "        covInv = np.linalg.pinv(self.cov) #get inverse of covariance matrix\n",
    "        self.w = np.dot(covInv, (self.mu1 - self.mu2)) #get optimal weights\n",
    "        firstTermW0 = -0.5 * np.dot(self.mu1.T, np.dot(covInv, self.mu1)) #get the first part of w0\n",
    "        secondTermW0 = 0.5 * np.dot(self.mu2.T, np.dot(covInv, self.mu2)) #get the second part of w0\n",
    "        thirdTermW0 = np.log(self.gamma1 / self.gamma2) #get the third part of w0\n",
    "        self.w0 = firstTermW0 + secondTermW0 + thirdTermW0 #get w0\n",
    "    \n",
    "    #Prediction\n",
    "    def predict(self, X_val):\n",
    "        a = np.dot(X_val, self.w) + self.w0 #get predictions\n",
    "        self.pred = self.__logit__(a) #use logit to get probability\n",
    "        self.pred = np.where(self.pred >= 0.5, 1, 0) #assign classes based on probability\n",
    "        return self.pred\n",
    "    \n",
    "    #Logit function\n",
    "    def __logit__(self, a):\n",
    "        return 1 / (1 + np.exp(-a))\n",
    "    \n",
    "    #Return weights\n",
    "    def getWeights(self):\n",
    "        return self.w, self.w0"
   ]
  },
  {
   "cell_type": "markdown",
   "id": "e80e032b",
   "metadata": {},
   "source": [
    "## Working"
   ]
  },
  {
   "cell_type": "code",
   "execution_count": 15,
   "id": "0e1fef36",
   "metadata": {},
   "outputs": [],
   "source": [
    "pgm = PGM()"
   ]
  },
  {
   "cell_type": "code",
   "execution_count": 16,
   "id": "1b022e16",
   "metadata": {},
   "outputs": [],
   "source": [
    "pgm.fit(X_train, y_train)"
   ]
  },
  {
   "cell_type": "code",
   "execution_count": 17,
   "id": "1df9ec04",
   "metadata": {},
   "outputs": [],
   "source": [
    "pred = pgm.predict(X_val)"
   ]
  },
  {
   "cell_type": "markdown",
   "id": "e0af3440",
   "metadata": {},
   "source": [
    "## Checking the accuracy of the model"
   ]
  },
  {
   "cell_type": "code",
   "execution_count": 18,
   "id": "a35619ce",
   "metadata": {},
   "outputs": [
    {
     "name": "stdout",
     "output_type": "stream",
     "text": [
      "              precision    recall  f1-score   support\n",
      "\n",
      "           0       0.91      0.99      0.95        79\n",
      "           1       0.98      0.86      0.92        58\n",
      "\n",
      "    accuracy                           0.93       137\n",
      "   macro avg       0.94      0.92      0.93       137\n",
      "weighted avg       0.94      0.93      0.93       137\n",
      "\n"
     ]
    }
   ],
   "source": [
    "print(classification_report(y_val, pred))"
   ]
  },
  {
   "cell_type": "code",
   "execution_count": null,
   "id": "2c8209ba",
   "metadata": {},
   "outputs": [],
   "source": []
  }
 ],
 "metadata": {
  "kernelspec": {
   "display_name": "Python 3 (ipykernel)",
   "language": "python",
   "name": "python3"
  },
  "language_info": {
   "codemirror_mode": {
    "name": "ipython",
    "version": 3
   },
   "file_extension": ".py",
   "mimetype": "text/x-python",
   "name": "python",
   "nbconvert_exporter": "python",
   "pygments_lexer": "ipython3",
   "version": "3.9.7"
  }
 },
 "nbformat": 4,
 "nbformat_minor": 5
}
